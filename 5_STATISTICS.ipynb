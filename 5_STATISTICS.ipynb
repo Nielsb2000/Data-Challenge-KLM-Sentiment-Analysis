{
 "cells": [
  {
   "cell_type": "code",
   "execution_count": 2,
   "metadata": {},
   "outputs": [],
   "source": [
    "import sqlite3\n",
    "import pandas as pd"
   ]
  },
  {
   "cell_type": "markdown",
   "metadata": {},
   "source": [
    "## Sentiment change analysis + Response time analysis "
   ]
  },
  {
   "cell_type": "code",
   "execution_count": 3,
   "metadata": {},
   "outputs": [],
   "source": [
    "conn_tweets = sqlite3.connect('tweets_airlines.db')"
   ]
  },
  {
   "cell_type": "code",
   "execution_count": 4,
   "metadata": {},
   "outputs": [],
   "source": [
    "query_tweets = '''SELECT tweet_id, user_id, reply_to_user, conversation_id, conversation_level, compound\n",
    "                  FROM TWEETS\n",
    "                  '''\n",
    "df_tweets = pd.read_sql(query_tweets, conn_tweets)"
   ]
  },
  {
   "cell_type": "code",
   "execution_count": 5,
   "metadata": {},
   "outputs": [],
   "source": [
    "df_tweets = df_tweets[df_tweets['conversation_id'] != 'level > 1']"
   ]
  },
  {
   "cell_type": "code",
   "execution_count": 6,
   "metadata": {},
   "outputs": [],
   "source": [
    "airlines_dict = {56377143: 'KLM', 106062176: 'AirFrance', 124476322: 'Lufthansa', 18332190: 'British_Airways'}"
   ]
  },
  {
   "cell_type": "code",
   "execution_count": 7,
   "metadata": {},
   "outputs": [],
   "source": [
    "df_real = df_tweets[df_tweets['conversation_level'] > 1] "
   ]
  },
  {
   "cell_type": "code",
   "execution_count": 8,
   "metadata": {},
   "outputs": [],
   "source": [
    "convo_dict = {}\n",
    "\n",
    "def conv_airline(airline_id):\n",
    "    \n",
    "    contact = df_real[(df_real['reply_to_user'] == airline_id) | (df_real['user_id'] == airline_id)]['conversation_id'].to_list()\n",
    "\n",
    "    conversations = []\n",
    "    \n",
    "    for conv_id in contact: \n",
    "        try: \n",
    "            if conv_id not in conversations: \n",
    "                conversations.append(conv_id)\n",
    "        except: \n",
    "            pass \n",
    "    \n",
    "    convo_dict[airline_id] = conversations"
   ]
  },
  {
   "cell_type": "code",
   "execution_count": 9,
   "metadata": {},
   "outputs": [],
   "source": [
    "def all_ids(airline_id: int):\n",
    "    \n",
    "    conversations_airline = {}\n",
    "    \n",
    "    for i in convo_dict[airline_id]:\n",
    "        tweets = []\n",
    "        root = float(i) // 1\n",
    "        root = int(root)\n",
    "        root = str(root) + '.0'\n",
    "        tweets.extend(df_tweets[df_tweets['conversation_id'] == root]['tweet_id'].tolist())\n",
    "        tweets.extend(df_tweets[df_tweets['conversation_id'] == i]['tweet_id'].tolist())\n",
    "             \n",
    "        conversations_airline[i] = tweets\n",
    "    \n",
    "    print(airline_id)\n",
    "    return conversations_airline"
   ]
  },
  {
   "cell_type": "code",
   "execution_count": 10,
   "metadata": {},
   "outputs": [],
   "source": [
    "def resolve(airline_id, tweet_ids): \n",
    "    df_resolve = df_tweets[df_tweets['tweet_id'].isin(tweet_ids) & (df_tweets['user_id'] != airline_id)]\n",
    "    try:\n",
    "        first_sentiment = df_resolve[df_resolve['conversation_level'] == df_resolve['conversation_level'].min()]['compound'].values[0]\n",
    "        last_sentiment = df_resolve[df_resolve['conversation_level'] == df_resolve['conversation_level'].max()]['compound'].values[0]\n",
    "        if first_sentiment != last_sentiment: \n",
    "            delta_sentiment = last_sentiment - first_sentiment\n",
    "            return delta_sentiment\n",
    "    except: \n",
    "        pass"
   ]
  },
  {
   "cell_type": "code",
   "execution_count": 11,
   "metadata": {},
   "outputs": [],
   "source": [
    "for key, value in airlines_dict.items():\n",
    "    conv_airline(key)"
   ]
  },
  {
   "cell_type": "code",
   "execution_count": 12,
   "metadata": {},
   "outputs": [
    {
     "name": "stdout",
     "output_type": "stream",
     "text": [
      "56377143\n",
      "106062176\n",
      "124476322\n",
      "18332190\n"
     ]
    }
   ],
   "source": [
    "for key, value in airlines_dict.items():\n",
    "    globals()[value] = all_ids(key)"
   ]
  },
  {
   "cell_type": "code",
   "execution_count": 13,
   "metadata": {},
   "outputs": [],
   "source": [
    "change_klm = []\n",
    "for key, value in KLM.items():\n",
    "    sentiment = resolve(56377143, value)\n",
    "    if sentiment:\n",
    "        change_klm.append(sentiment)"
   ]
  },
  {
   "cell_type": "code",
   "execution_count": 14,
   "metadata": {},
   "outputs": [],
   "source": [
    "change_airf = []\n",
    "for key, value in AirFrance.items():\n",
    "    sentiment = resolve(106062176, value)\n",
    "    if sentiment:\n",
    "        change_airf.append(sentiment)"
   ]
  },
  {
   "cell_type": "code",
   "execution_count": 15,
   "metadata": {},
   "outputs": [],
   "source": [
    "change_luft = []\n",
    "for key, value in Lufthansa.items():\n",
    "    sentiment = resolve(124476322, value)\n",
    "    if sentiment:\n",
    "        change_luft.append(sentiment)"
   ]
  },
  {
   "cell_type": "code",
   "execution_count": 16,
   "metadata": {},
   "outputs": [],
   "source": [
    "change_ba = []\n",
    "for key, value in British_Airways.items():\n",
    "    sentiment = resolve(18332190, value)\n",
    "    if sentiment:\n",
    "        change_ba.append(sentiment)"
   ]
  },
  {
   "cell_type": "code",
   "execution_count": 17,
   "metadata": {},
   "outputs": [],
   "source": [
    "dict_airlines = {'British_Airways': change_ba, 'Lufthansa': change_luft, 'AirFrance': change_airf, 'KLM': change_klm}"
   ]
  },
  {
   "cell_type": "code",
   "execution_count": 30,
   "metadata": {},
   "outputs": [],
   "source": [
    "df_klm = pd.DataFrame(change_klm)\n",
    "df_klm.to_csv('klm.csv')\n",
    "\n",
    "df_airf = pd.DataFrame(change_airf)\n",
    "df_airf.to_csv('airfrance.csv')\n",
    "\n",
    "df_ba = pd.DataFrame(change_ba)\n",
    "df_ba.to_csv('british_air.csv')\n",
    "\n",
    "df_luft = pd.DataFrame(change_luft)\n",
    "df_luft.to_csv('lufthansa.csv')"
   ]
  },
  {
   "cell_type": "code",
   "execution_count": 194,
   "metadata": {},
   "outputs": [],
   "source": [
    "#All tweets\n",
    "query = '''\n",
    "select *\n",
    "from tweets\n",
    "'''\n",
    "df_all = pd.read_sql(query, conn_tweets)"
   ]
  },
  {
   "cell_type": "code",
   "execution_count": 31,
   "metadata": {},
   "outputs": [
    {
     "ename": "SyntaxError",
     "evalue": "illegal target for annotation (<ipython-input-31-e7c600c01ca4>, line 3)",
     "output_type": "error",
     "traceback": [
      "\u001b[0;36m  File \u001b[0;32m\"<ipython-input-31-e7c600c01ca4>\"\u001b[0;36m, line \u001b[0;32m3\u001b[0m\n\u001b[0;31m    56377143: 'KLM' #0.8719111713339356, number of replies: 5535, no root: 169\u001b[0m\n\u001b[0m                                                                              ^\u001b[0m\n\u001b[0;31mSyntaxError\u001b[0m\u001b[0;31m:\u001b[0m illegal target for annotation\n"
     ]
    }
   ],
   "source": [
    "#AIRLINES ID, AIRLINE NAME, AVERAGE RESPONSE TIME IN HOURS, NUMBER OF REPLIES, NUMBER OF TWEERS WITHOUT ROOT\n",
    "56377143: 'KLM' #0.8719111713339356, number of replies: 5535, no root: 169\n",
    "106062176: 'AirFrance' #2.458694745031473, number of replies: 1571, no root: 22\n",
    "18332190: 'British_Airways' #3.655695285601354, number of replies: 17007, no root: 217\n",
    "22536055: 'AmericanAir' #0.9004331833196957, number of replies: 21998, no root: 164\n",
    "124476322: 'Lufthansa' #0.3443861483725179, number of replies: 2311, no root: 3\n",
    "26223583: 'AirBerlin' #no tweets, number of replies: 0, no root: 0  \n",
    "2182373406: 'AirBerlin assist' #no tweets, number of replies: 0, no root: 0  \n",
    "38676903: 'easyJet' #1.9478903030746348, number of replies: 9114, no root: 46\n",
    "1542862735: 'RyanAir' #6.48837453933432, number of replies: 3829, no root: 14\n",
    "253340062: 'SingaporeAir' #1.674717692251939, number of replies: 1533, no root: 13\n",
    "218730857: 'Qantas' #1.4089490321136848, number of replies: 1986, no root: 4\n",
    "45621423: 'EtihadAirways' #0.39753437383872164, number of replies: 299, no root: 1\n",
    "20626359: 'VirginAtlantic' #0.5191655092592593, number of replies: 2880, no root: 57"
   ]
  },
  {
   "cell_type": "code",
   "execution_count": 198,
   "metadata": {},
   "outputs": [],
   "source": [
    "def average_reply_time(airline_id):\n",
    "    '''\n",
    "    Calculates average response time of specific airline.\n",
    "    :param airline_id: tweeter id of an airline.\n",
    "    return: average response time in hours, number of responses and number of airline responses without root\n",
    "    '''\n",
    "    #All airline replies\n",
    "    replies_airlines = '''\n",
    "    select *\n",
    "    from tweets\n",
    "    where reply_to_tweet <> 0 and user_id = {}\n",
    "    '''.format(airline_id)\n",
    "    airline_replies = pd.read_sql(replies_airlines, conn_tweets)\n",
    "    \n",
    "    \n",
    "    \n",
    "    #Average response time in hours\n",
    "    sum1 = 0\n",
    "    #how many times root  was found\n",
    "    d1 = 0\n",
    "    #no root, time here could not be calculated\n",
    "    d2 = 0\n",
    "    for index, row in airline_replies.iterrows():\n",
    "        #root tweet\n",
    "        root = row['reply_to_tweet']\n",
    "        root_tweet = df_all[df_all['tweet_id']==root]\n",
    "        #sum of time of all replies\n",
    "        if not root_tweet.empty:\n",
    "            #when root tweet was created\n",
    "            for i in root_tweet['created_at']:\n",
    "                x = i\n",
    "            sum1 = sum1 + (row['created_at'] - x)\n",
    "            #number of iterations required to calculate average\n",
    "            d1 += 1\n",
    "        else:\n",
    "            d2 += 1\n",
    "    airline_average = (sum1/d1)/3600\n",
    "    return (airline_average, d1, d2)"
   ]
  },
  {
   "cell_type": "code",
   "execution_count": 199,
   "metadata": {},
   "outputs": [
    {
     "data": {
      "text/plain": [
       "(2.458694745031473, 1571, 22)"
      ]
     },
     "execution_count": 199,
     "metadata": {},
     "output_type": "execute_result"
    }
   ],
   "source": [
    "average_reply_time(106062176)"
   ]
  },
  {
   "cell_type": "code",
   "execution_count": null,
   "metadata": {},
   "outputs": [],
   "source": []
  }
 ],
 "metadata": {
  "kernelspec": {
   "display_name": "Python 3",
   "language": "python",
   "name": "python3"
  },
  "language_info": {
   "codemirror_mode": {
    "name": "ipython",
    "version": 3
   },
   "file_extension": ".py",
   "mimetype": "text/x-python",
   "name": "python",
   "nbconvert_exporter": "python",
   "pygments_lexer": "ipython3",
   "version": "3.7.6"
  }
 },
 "nbformat": 4,
 "nbformat_minor": 4
}
