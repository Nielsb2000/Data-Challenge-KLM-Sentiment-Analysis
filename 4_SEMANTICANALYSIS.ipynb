{
 "cells": [
  {
   "cell_type": "markdown",
   "metadata": {},
   "source": [
    "Installing all needed libraries:"
   ]
  },
  {
   "cell_type": "code",
   "execution_count": 1,
   "metadata": {},
   "outputs": [
    {
     "name": "stdout",
     "output_type": "stream",
     "text": [
      "Requirement already up-to-date: textblob-de in c:\\users\\lukas\\anaconda3\\lib\\site-packages (0.4.3)\n",
      "Requirement already satisfied, skipping upgrade: textblob>=0.9.0 in c:\\users\\lukas\\anaconda3\\lib\\site-packages (from textblob-de) (0.15.3)\n",
      "Requirement already satisfied, skipping upgrade: nltk>=3.1 in c:\\users\\lukas\\anaconda3\\lib\\site-packages (from textblob>=0.9.0->textblob-de) (3.5)\n",
      "Requirement already satisfied, skipping upgrade: joblib in c:\\users\\lukas\\anaconda3\\lib\\site-packages (from nltk>=3.1->textblob>=0.9.0->textblob-de) (0.17.0)\n",
      "Requirement already satisfied, skipping upgrade: regex in c:\\users\\lukas\\anaconda3\\lib\\site-packages (from nltk>=3.1->textblob>=0.9.0->textblob-de) (2020.10.15)\n",
      "Requirement already satisfied, skipping upgrade: click in c:\\users\\lukas\\anaconda3\\lib\\site-packages (from nltk>=3.1->textblob>=0.9.0->textblob-de) (7.1.2)\n",
      "Requirement already satisfied, skipping upgrade: tqdm in c:\\users\\lukas\\anaconda3\\lib\\site-packages (from nltk>=3.1->textblob>=0.9.0->textblob-de) (4.50.2)\n",
      "Finished.\n"
     ]
    },
    {
     "name": "stderr",
     "output_type": "stream",
     "text": [
      "[nltk_data] Downloading package brown to\n",
      "[nltk_data]     C:\\Users\\lukas\\AppData\\Roaming\\nltk_data...\n",
      "[nltk_data]   Package brown is already up-to-date!\n",
      "[nltk_data] Downloading package punkt to\n",
      "[nltk_data]     C:\\Users\\lukas\\AppData\\Roaming\\nltk_data...\n",
      "[nltk_data]   Package punkt is already up-to-date!\n",
      "[nltk_data] Downloading package wordnet to\n",
      "[nltk_data]     C:\\Users\\lukas\\AppData\\Roaming\\nltk_data...\n",
      "[nltk_data]   Package wordnet is already up-to-date!\n",
      "[nltk_data] Downloading package averaged_perceptron_tagger to\n",
      "[nltk_data]     C:\\Users\\lukas\\AppData\\Roaming\\nltk_data...\n",
      "[nltk_data]   Package averaged_perceptron_tagger is already up-to-\n",
      "[nltk_data]       date!\n",
      "[nltk_data] Downloading package conll2000 to\n",
      "[nltk_data]     C:\\Users\\lukas\\AppData\\Roaming\\nltk_data...\n",
      "[nltk_data]   Package conll2000 is already up-to-date!\n",
      "[nltk_data] Downloading package movie_reviews to\n",
      "[nltk_data]     C:\\Users\\lukas\\AppData\\Roaming\\nltk_data...\n",
      "[nltk_data]   Package movie_reviews is already up-to-date!\n"
     ]
    },
    {
     "name": "stdout",
     "output_type": "stream",
     "text": [
      "Requirement already satisfied: vaderSentiment in c:\\users\\lukas\\anaconda3\\lib\\site-packages (3.3.2)\n",
      "Requirement already satisfied: requests in c:\\users\\lukas\\anaconda3\\lib\\site-packages (from vaderSentiment) (2.24.0)\n",
      "Requirement already satisfied: urllib3!=1.25.0,!=1.25.1,<1.26,>=1.21.1 in c:\\users\\lukas\\anaconda3\\lib\\site-packages (from requests->vaderSentiment) (1.25.11)\n",
      "Requirement already satisfied: certifi>=2017.4.17 in c:\\users\\lukas\\anaconda3\\lib\\site-packages (from requests->vaderSentiment) (2021.5.30)\n",
      "Requirement already satisfied: idna<3,>=2.5 in c:\\users\\lukas\\anaconda3\\lib\\site-packages (from requests->vaderSentiment) (2.10)\n",
      "Requirement already satisfied: chardet<4,>=3.0.2 in c:\\users\\lukas\\anaconda3\\lib\\site-packages (from requests->vaderSentiment) (3.0.4)\n",
      "Requirement already satisfied: WordCloud in c:\\users\\lukas\\anaconda3\\lib\\site-packages (1.8.1)\n",
      "Requirement already satisfied: numpy>=1.6.1 in c:\\users\\lukas\\anaconda3\\lib\\site-packages (from WordCloud) (1.19.2)\n",
      "Requirement already satisfied: pillow in c:\\users\\lukas\\anaconda3\\lib\\site-packages (from WordCloud) (8.0.1)\n",
      "Requirement already satisfied: matplotlib in c:\\users\\lukas\\anaconda3\\lib\\site-packages (from WordCloud) (3.3.2)\n",
      "Requirement already satisfied: cycler>=0.10 in c:\\users\\lukas\\anaconda3\\lib\\site-packages (from matplotlib->WordCloud) (0.10.0)\n",
      "Requirement already satisfied: certifi>=2020.06.20 in c:\\users\\lukas\\anaconda3\\lib\\site-packages (from matplotlib->WordCloud) (2021.5.30)\n",
      "Requirement already satisfied: kiwisolver>=1.0.1 in c:\\users\\lukas\\anaconda3\\lib\\site-packages (from matplotlib->WordCloud) (1.3.0)\n",
      "Requirement already satisfied: pyparsing!=2.0.4,!=2.1.2,!=2.1.6,>=2.0.3 in c:\\users\\lukas\\anaconda3\\lib\\site-packages (from matplotlib->WordCloud) (2.4.7)\n",
      "Requirement already satisfied: python-dateutil>=2.1 in c:\\users\\lukas\\anaconda3\\lib\\site-packages (from matplotlib->WordCloud) (2.8.1)\n",
      "Requirement already satisfied: six in c:\\users\\lukas\\anaconda3\\lib\\site-packages (from cycler>=0.10->matplotlib->WordCloud) (1.15.0)\n",
      "Requirement already satisfied: pycountry in c:\\users\\lukas\\anaconda3\\lib\\site-packages (20.7.3)\n",
      "Requirement already satisfied: langdetect in c:\\users\\lukas\\anaconda3\\lib\\site-packages (1.0.9)\n",
      "Requirement already satisfied: six in c:\\users\\lukas\\anaconda3\\lib\\site-packages (from langdetect) (1.15.0)\n",
      "Requirement already satisfied: vader-multi in c:\\users\\lukas\\anaconda3\\lib\\site-packages (3.2.2.1)\n",
      "Requirement already satisfied: translatte in c:\\users\\lukas\\anaconda3\\lib\\site-packages (from vader-multi) (0.1)\n",
      "Requirement already satisfied: requests in c:\\users\\lukas\\anaconda3\\lib\\site-packages (from vader-multi) (2.24.0)\n",
      "Requirement already satisfied: urllib3!=1.25.0,!=1.25.1,<1.26,>=1.21.1 in c:\\users\\lukas\\anaconda3\\lib\\site-packages (from requests->vader-multi) (1.25.11)\n",
      "Requirement already satisfied: certifi>=2017.4.17 in c:\\users\\lukas\\anaconda3\\lib\\site-packages (from requests->vader-multi) (2021.5.30)\n",
      "Requirement already satisfied: chardet<4,>=3.0.2 in c:\\users\\lukas\\anaconda3\\lib\\site-packages (from requests->vader-multi) (3.0.4)\n",
      "Requirement already satisfied: idna<3,>=2.5 in c:\\users\\lukas\\anaconda3\\lib\\site-packages (from requests->vader-multi) (2.10)\n",
      "Requirement already up-to-date: textblob in c:\\users\\lukas\\anaconda3\\lib\\site-packages (0.15.3)\n",
      "Requirement already satisfied, skipping upgrade: nltk>=3.1 in c:\\users\\lukas\\anaconda3\\lib\\site-packages (from textblob) (3.5)\n",
      "Requirement already satisfied, skipping upgrade: joblib in c:\\users\\lukas\\anaconda3\\lib\\site-packages (from nltk>=3.1->textblob) (0.17.0)\n",
      "Requirement already satisfied, skipping upgrade: regex in c:\\users\\lukas\\anaconda3\\lib\\site-packages (from nltk>=3.1->textblob) (2020.10.15)\n",
      "Requirement already satisfied, skipping upgrade: click in c:\\users\\lukas\\anaconda3\\lib\\site-packages (from nltk>=3.1->textblob) (7.1.2)\n",
      "Requirement already satisfied, skipping upgrade: tqdm in c:\\users\\lukas\\anaconda3\\lib\\site-packages (from nltk>=3.1->textblob) (4.50.2)\n",
      "Requirement already satisfied: pandarallel in c:\\users\\lukas\\anaconda3\\lib\\site-packages (1.5.2)\n",
      "Requirement already satisfied: dill in c:\\users\\lukas\\anaconda3\\lib\\site-packages (from pandarallel) (0.3.4)\n",
      "Requirement already satisfied: swifter in c:\\users\\lukas\\anaconda3\\lib\\site-packages (1.0.7)\n",
      "Requirement already satisfied: modin[ray]>=0.8.1.1 in c:\\users\\lukas\\anaconda3\\lib\\site-packages (from swifter) (0.10.0)\n",
      "Requirement already satisfied: pandas>=1.0.0 in c:\\users\\lukas\\anaconda3\\lib\\site-packages (from swifter) (1.1.3)\n",
      "Requirement already satisfied: psutil>=5.6.6 in c:\\users\\lukas\\anaconda3\\lib\\site-packages (from swifter) (5.7.2)\n",
      "Requirement already satisfied: parso>0.4.0 in c:\\users\\lukas\\anaconda3\\lib\\site-packages (from swifter) (0.7.0)\n",
      "Requirement already satisfied: bleach>=3.1.1 in c:\\users\\lukas\\anaconda3\\lib\\site-packages (from swifter) (3.2.1)\n",
      "Requirement already satisfied: dask[dataframe]>=2.10.0 in c:\\users\\lukas\\anaconda3\\lib\\site-packages (from swifter) (2.30.0)\n",
      "Requirement already satisfied: ipywidgets>=7.0.0cloudpickle>=0.2.2 in c:\\users\\lukas\\anaconda3\\lib\\site-packages (from swifter) (7.5.1)\n",
      "Requirement already satisfied: tqdm>=4.33.0 in c:\\users\\lukas\\anaconda3\\lib\\site-packages (from swifter) (4.50.2)\n",
      "Requirement already satisfied: numpy>=1.16.5 in c:\\users\\lukas\\anaconda3\\lib\\site-packages (from modin[ray]>=0.8.1.1->swifter) (1.19.2)\n",
      "Requirement already satisfied: packaging in c:\\users\\lukas\\anaconda3\\lib\\site-packages (from modin[ray]>=0.8.1.1->swifter) (20.4)\n",
      "Requirement already satisfied: ray>=1.4.0; extra == \"ray\" in c:\\users\\lukas\\anaconda3\\lib\\site-packages (from modin[ray]>=0.8.1.1->swifter) (1.4.0)\n",
      "Requirement already satisfied: pyarrow>=1.0; extra == \"ray\" in c:\\users\\lukas\\anaconda3\\lib\\site-packages (from modin[ray]>=0.8.1.1->swifter) (4.0.1)\n",
      "Requirement already satisfied: python-dateutil>=2.7.3 in c:\\users\\lukas\\anaconda3\\lib\\site-packages (from pandas>=1.0.0->swifter) (2.8.1)\n",
      "Requirement already satisfied: pytz>=2017.2 in c:\\users\\lukas\\anaconda3\\lib\\site-packages (from pandas>=1.0.0->swifter) (2020.1)\n",
      "Requirement already satisfied: webencodings in c:\\users\\lukas\\anaconda3\\lib\\site-packages (from bleach>=3.1.1->swifter) (0.5.1)\n",
      "Requirement already satisfied: six>=1.9.0 in c:\\users\\lukas\\anaconda3\\lib\\site-packages (from bleach>=3.1.1->swifter) (1.15.0)\n",
      "Requirement already satisfied: pyyaml in c:\\users\\lukas\\anaconda3\\lib\\site-packages (from dask[dataframe]>=2.10.0->swifter) (5.3.1)\n",
      "Requirement already satisfied: fsspec>=0.6.0; extra == \"dataframe\" in c:\\users\\lukas\\anaconda3\\lib\\site-packages (from dask[dataframe]>=2.10.0->swifter) (0.8.3)\n",
      "Requirement already satisfied: partd>=0.3.10; extra == \"dataframe\" in c:\\users\\lukas\\anaconda3\\lib\\site-packages (from dask[dataframe]>=2.10.0->swifter) (1.1.0)\n",
      "Requirement already satisfied: toolz>=0.8.2; extra == \"dataframe\" in c:\\users\\lukas\\anaconda3\\lib\\site-packages (from dask[dataframe]>=2.10.0->swifter) (0.11.1)\n",
      "Requirement already satisfied: widgetsnbextension~=3.5.0 in c:\\users\\lukas\\anaconda3\\lib\\site-packages (from ipywidgets>=7.0.0cloudpickle>=0.2.2->swifter) (3.5.1)\n",
      "Requirement already satisfied: ipython>=4.0.0; python_version >= \"3.3\" in c:\\users\\lukas\\anaconda3\\lib\\site-packages (from ipywidgets>=7.0.0cloudpickle>=0.2.2->swifter) (7.19.0)\n",
      "Requirement already satisfied: ipykernel>=4.5.1 in c:\\users\\lukas\\anaconda3\\lib\\site-packages (from ipywidgets>=7.0.0cloudpickle>=0.2.2->swifter) (5.3.4)\n",
      "Requirement already satisfied: nbformat>=4.2.0 in c:\\users\\lukas\\anaconda3\\lib\\site-packages (from ipywidgets>=7.0.0cloudpickle>=0.2.2->swifter) (5.0.8)\n",
      "Requirement already satisfied: traitlets>=4.3.1 in c:\\users\\lukas\\anaconda3\\lib\\site-packages (from ipywidgets>=7.0.0cloudpickle>=0.2.2->swifter) (5.0.5)\n",
      "Requirement already satisfied: pyparsing>=2.0.2 in c:\\users\\lukas\\anaconda3\\lib\\site-packages (from packaging->modin[ray]>=0.8.1.1->swifter) (2.4.7)\n",
      "Requirement already satisfied: aioredis in c:\\users\\lukas\\anaconda3\\lib\\site-packages (from ray>=1.4.0; extra == \"ray\"->modin[ray]>=0.8.1.1->swifter) (1.3.1)\n",
      "Requirement already satisfied: filelock in c:\\users\\lukas\\anaconda3\\lib\\site-packages (from ray>=1.4.0; extra == \"ray\"->modin[ray]>=0.8.1.1->swifter) (3.0.12)\n",
      "Requirement already satisfied: click>=7.0 in c:\\users\\lukas\\anaconda3\\lib\\site-packages (from ray>=1.4.0; extra == \"ray\"->modin[ray]>=0.8.1.1->swifter) (7.1.2)\n",
      "Requirement already satisfied: prometheus-client>=0.7.1 in c:\\users\\lukas\\anaconda3\\lib\\site-packages (from ray>=1.4.0; extra == \"ray\"->modin[ray]>=0.8.1.1->swifter) (0.8.0)\n",
      "Requirement already satisfied: opencensus in c:\\users\\lukas\\anaconda3\\lib\\site-packages (from ray>=1.4.0; extra == \"ray\"->modin[ray]>=0.8.1.1->swifter) (0.7.13)\n",
      "Requirement already satisfied: protobuf>=3.15.3 in c:\\users\\lukas\\anaconda3\\lib\\site-packages (from ray>=1.4.0; extra == \"ray\"->modin[ray]>=0.8.1.1->swifter) (3.17.3)\n",
      "Requirement already satisfied: py-spy>=0.2.0 in c:\\users\\lukas\\anaconda3\\lib\\site-packages (from ray>=1.4.0; extra == \"ray\"->modin[ray]>=0.8.1.1->swifter) (0.3.7)\n",
      "Requirement already satisfied: redis>=3.5.0 in c:\\users\\lukas\\anaconda3\\lib\\site-packages (from ray>=1.4.0; extra == \"ray\"->modin[ray]>=0.8.1.1->swifter) (3.5.3)\n",
      "Requirement already satisfied: requests in c:\\users\\lukas\\anaconda3\\lib\\site-packages (from ray>=1.4.0; extra == \"ray\"->modin[ray]>=0.8.1.1->swifter) (2.24.0)\n",
      "Requirement already satisfied: pydantic>=1.8 in c:\\users\\lukas\\anaconda3\\lib\\site-packages (from ray>=1.4.0; extra == \"ray\"->modin[ray]>=0.8.1.1->swifter) (1.8.2)\n",
      "Requirement already satisfied: grpcio>=1.28.1 in c:\\users\\lukas\\anaconda3\\lib\\site-packages (from ray>=1.4.0; extra == \"ray\"->modin[ray]>=0.8.1.1->swifter) (1.36.1)\n",
      "Requirement already satisfied: msgpack<2.0.0,>=1.0.0 in c:\\users\\lukas\\anaconda3\\lib\\site-packages (from ray>=1.4.0; extra == \"ray\"->modin[ray]>=0.8.1.1->swifter) (1.0.0)\n",
      "Requirement already satisfied: gpustat in c:\\users\\lukas\\anaconda3\\lib\\site-packages (from ray>=1.4.0; extra == \"ray\"->modin[ray]>=0.8.1.1->swifter) (0.6.0)\n",
      "Requirement already satisfied: colorama in c:\\users\\lukas\\anaconda3\\lib\\site-packages (from ray>=1.4.0; extra == \"ray\"->modin[ray]>=0.8.1.1->swifter) (0.4.4)\n",
      "Requirement already satisfied: aiohttp in c:\\users\\lukas\\anaconda3\\lib\\site-packages (from ray>=1.4.0; extra == \"ray\"->modin[ray]>=0.8.1.1->swifter) (3.7.4)\n",
      "Requirement already satisfied: jsonschema in c:\\users\\lukas\\anaconda3\\lib\\site-packages (from ray>=1.4.0; extra == \"ray\"->modin[ray]>=0.8.1.1->swifter) (3.2.0)\n",
      "Requirement already satisfied: aiohttp-cors in c:\\users\\lukas\\anaconda3\\lib\\site-packages (from ray>=1.4.0; extra == \"ray\"->modin[ray]>=0.8.1.1->swifter) (0.7.0)\n",
      "Requirement already satisfied: locket in c:\\users\\lukas\\anaconda3\\lib\\site-packages (from partd>=0.3.10; extra == \"dataframe\"->dask[dataframe]>=2.10.0->swifter) (0.2.0)\n",
      "Requirement already satisfied: notebook>=4.4.1 in c:\\users\\lukas\\anaconda3\\lib\\site-packages (from widgetsnbextension~=3.5.0->ipywidgets>=7.0.0cloudpickle>=0.2.2->swifter) (6.1.4)\n",
      "Requirement already satisfied: pickleshare in c:\\users\\lukas\\anaconda3\\lib\\site-packages (from ipython>=4.0.0; python_version >= \"3.3\"->ipywidgets>=7.0.0cloudpickle>=0.2.2->swifter) (0.7.5)\n",
      "Requirement already satisfied: setuptools>=18.5 in c:\\users\\lukas\\anaconda3\\lib\\site-packages (from ipython>=4.0.0; python_version >= \"3.3\"->ipywidgets>=7.0.0cloudpickle>=0.2.2->swifter) (50.3.1.post20201107)\n",
      "Requirement already satisfied: backcall in c:\\users\\lukas\\anaconda3\\lib\\site-packages (from ipython>=4.0.0; python_version >= \"3.3\"->ipywidgets>=7.0.0cloudpickle>=0.2.2->swifter) (0.2.0)\n",
      "Requirement already satisfied: prompt-toolkit!=3.0.0,!=3.0.1,<3.1.0,>=2.0.0 in c:\\users\\lukas\\anaconda3\\lib\\site-packages (from ipython>=4.0.0; python_version >= \"3.3\"->ipywidgets>=7.0.0cloudpickle>=0.2.2->swifter) (3.0.8)\n",
      "Requirement already satisfied: decorator in c:\\users\\lukas\\anaconda3\\lib\\site-packages (from ipython>=4.0.0; python_version >= \"3.3\"->ipywidgets>=7.0.0cloudpickle>=0.2.2->swifter) (4.4.2)\n",
      "Requirement already satisfied: pygments in c:\\users\\lukas\\anaconda3\\lib\\site-packages (from ipython>=4.0.0; python_version >= \"3.3\"->ipywidgets>=7.0.0cloudpickle>=0.2.2->swifter) (2.7.2)\n",
      "Requirement already satisfied: jedi>=0.10 in c:\\users\\lukas\\anaconda3\\lib\\site-packages (from ipython>=4.0.0; python_version >= \"3.3\"->ipywidgets>=7.0.0cloudpickle>=0.2.2->swifter) (0.17.1)\n",
      "Requirement already satisfied: tornado>=4.2 in c:\\users\\lukas\\anaconda3\\lib\\site-packages (from ipykernel>=4.5.1->ipywidgets>=7.0.0cloudpickle>=0.2.2->swifter) (6.0.4)\n",
      "Requirement already satisfied: jupyter-client in c:\\users\\lukas\\anaconda3\\lib\\site-packages (from ipykernel>=4.5.1->ipywidgets>=7.0.0cloudpickle>=0.2.2->swifter) (6.1.7)\n",
      "Requirement already satisfied: ipython-genutils in c:\\users\\lukas\\anaconda3\\lib\\site-packages (from nbformat>=4.2.0->ipywidgets>=7.0.0cloudpickle>=0.2.2->swifter) (0.2.0)\n",
      "Requirement already satisfied: jupyter-core in c:\\users\\lukas\\anaconda3\\lib\\site-packages (from nbformat>=4.2.0->ipywidgets>=7.0.0cloudpickle>=0.2.2->swifter) (4.6.3)\n",
      "Requirement already satisfied: async-timeout in c:\\users\\lukas\\anaconda3\\lib\\site-packages (from aioredis->ray>=1.4.0; extra == \"ray\"->modin[ray]>=0.8.1.1->swifter) (3.0.1)\n",
      "Requirement already satisfied: hiredis in c:\\users\\lukas\\anaconda3\\lib\\site-packages (from aioredis->ray>=1.4.0; extra == \"ray\"->modin[ray]>=0.8.1.1->swifter) (2.0.0)\n",
      "Requirement already satisfied: opencensus-context==0.1.2 in c:\\users\\lukas\\anaconda3\\lib\\site-packages (from opencensus->ray>=1.4.0; extra == \"ray\"->modin[ray]>=0.8.1.1->swifter) (0.1.2)\n",
      "Requirement already satisfied: google-api-core<2.0.0,>=1.0.0 in c:\\users\\lukas\\anaconda3\\lib\\site-packages (from opencensus->ray>=1.4.0; extra == \"ray\"->modin[ray]>=0.8.1.1->swifter) (1.30.0)\n",
      "Requirement already satisfied: chardet<4,>=3.0.2 in c:\\users\\lukas\\anaconda3\\lib\\site-packages (from requests->ray>=1.4.0; extra == \"ray\"->modin[ray]>=0.8.1.1->swifter) (3.0.4)\n",
      "Requirement already satisfied: certifi>=2017.4.17 in c:\\users\\lukas\\anaconda3\\lib\\site-packages (from requests->ray>=1.4.0; extra == \"ray\"->modin[ray]>=0.8.1.1->swifter) (2021.5.30)\n",
      "Requirement already satisfied: idna<3,>=2.5 in c:\\users\\lukas\\anaconda3\\lib\\site-packages (from requests->ray>=1.4.0; extra == \"ray\"->modin[ray]>=0.8.1.1->swifter) (2.10)\n",
      "Requirement already satisfied: urllib3!=1.25.0,!=1.25.1,<1.26,>=1.21.1 in c:\\users\\lukas\\anaconda3\\lib\\site-packages (from requests->ray>=1.4.0; extra == \"ray\"->modin[ray]>=0.8.1.1->swifter) (1.25.11)\n",
      "Requirement already satisfied: typing-extensions>=3.7.4.3 in c:\\users\\lukas\\anaconda3\\lib\\site-packages (from pydantic>=1.8->ray>=1.4.0; extra == \"ray\"->modin[ray]>=0.8.1.1->swifter) (3.7.4.3)\n",
      "Requirement already satisfied: blessings>=1.6 in c:\\users\\lukas\\anaconda3\\lib\\site-packages (from gpustat->ray>=1.4.0; extra == \"ray\"->modin[ray]>=0.8.1.1->swifter) (1.7)\n",
      "Requirement already satisfied: nvidia-ml-py3>=7.352.0 in c:\\users\\lukas\\anaconda3\\lib\\site-packages (from gpustat->ray>=1.4.0; extra == \"ray\"->modin[ray]>=0.8.1.1->swifter) (7.352.0)\n",
      "Requirement already satisfied: attrs>=17.3.0 in c:\\users\\lukas\\anaconda3\\lib\\site-packages (from aiohttp->ray>=1.4.0; extra == \"ray\"->modin[ray]>=0.8.1.1->swifter) (20.3.0)\n",
      "Requirement already satisfied: yarl<2.0,>=1.0 in c:\\users\\lukas\\anaconda3\\lib\\site-packages (from aiohttp->ray>=1.4.0; extra == \"ray\"->modin[ray]>=0.8.1.1->swifter) (1.6.3)\n",
      "Requirement already satisfied: multidict<7.0,>=4.5 in c:\\users\\lukas\\anaconda3\\lib\\site-packages (from aiohttp->ray>=1.4.0; extra == \"ray\"->modin[ray]>=0.8.1.1->swifter) (5.1.0)\n",
      "Requirement already satisfied: pyrsistent>=0.14.0 in c:\\users\\lukas\\anaconda3\\lib\\site-packages (from jsonschema->ray>=1.4.0; extra == \"ray\"->modin[ray]>=0.8.1.1->swifter) (0.17.3)\n",
      "Requirement already satisfied: jinja2 in c:\\users\\lukas\\anaconda3\\lib\\site-packages (from notebook>=4.4.1->widgetsnbextension~=3.5.0->ipywidgets>=7.0.0cloudpickle>=0.2.2->swifter) (2.11.2)\n",
      "Requirement already satisfied: pyzmq>=17 in c:\\users\\lukas\\anaconda3\\lib\\site-packages (from notebook>=4.4.1->widgetsnbextension~=3.5.0->ipywidgets>=7.0.0cloudpickle>=0.2.2->swifter) (19.0.2)\n",
      "Requirement already satisfied: Send2Trash in c:\\users\\lukas\\anaconda3\\lib\\site-packages (from notebook>=4.4.1->widgetsnbextension~=3.5.0->ipywidgets>=7.0.0cloudpickle>=0.2.2->swifter) (1.5.0)\n",
      "Requirement already satisfied: argon2-cffi in c:\\users\\lukas\\anaconda3\\lib\\site-packages (from notebook>=4.4.1->widgetsnbextension~=3.5.0->ipywidgets>=7.0.0cloudpickle>=0.2.2->swifter) (20.1.0)\n",
      "Requirement already satisfied: terminado>=0.8.3 in c:\\users\\lukas\\anaconda3\\lib\\site-packages (from notebook>=4.4.1->widgetsnbextension~=3.5.0->ipywidgets>=7.0.0cloudpickle>=0.2.2->swifter) (0.9.1)\n",
      "Requirement already satisfied: nbconvert in c:\\users\\lukas\\anaconda3\\lib\\site-packages (from notebook>=4.4.1->widgetsnbextension~=3.5.0->ipywidgets>=7.0.0cloudpickle>=0.2.2->swifter) (6.0.7)\n",
      "Requirement already satisfied: wcwidth in c:\\users\\lukas\\anaconda3\\lib\\site-packages (from prompt-toolkit!=3.0.0,!=3.0.1,<3.1.0,>=2.0.0->ipython>=4.0.0; python_version >= \"3.3\"->ipywidgets>=7.0.0cloudpickle>=0.2.2->swifter) (0.2.5)\n",
      "Requirement already satisfied: pywin32>=1.0; sys_platform == \"win32\" in c:\\users\\lukas\\anaconda3\\lib\\site-packages (from jupyter-core->nbformat>=4.2.0->ipywidgets>=7.0.0cloudpickle>=0.2.2->swifter) (227)\n",
      "Requirement already satisfied: googleapis-common-protos<2.0dev,>=1.6.0 in c:\\users\\lukas\\anaconda3\\lib\\site-packages (from google-api-core<2.0.0,>=1.0.0->opencensus->ray>=1.4.0; extra == \"ray\"->modin[ray]>=0.8.1.1->swifter) (1.53.0)\n",
      "Requirement already satisfied: google-auth<2.0dev,>=1.25.0 in c:\\users\\lukas\\anaconda3\\lib\\site-packages (from google-api-core<2.0.0,>=1.0.0->opencensus->ray>=1.4.0; extra == \"ray\"->modin[ray]>=0.8.1.1->swifter) (1.30.1)\n",
      "Requirement already satisfied: MarkupSafe>=0.23 in c:\\users\\lukas\\anaconda3\\lib\\site-packages (from jinja2->notebook>=4.4.1->widgetsnbextension~=3.5.0->ipywidgets>=7.0.0cloudpickle>=0.2.2->swifter) (1.1.1)\n",
      "Requirement already satisfied: cffi>=1.0.0 in c:\\users\\lukas\\anaconda3\\lib\\site-packages (from argon2-cffi->notebook>=4.4.1->widgetsnbextension~=3.5.0->ipywidgets>=7.0.0cloudpickle>=0.2.2->swifter) (1.14.3)\n",
      "Requirement already satisfied: pywinpty>=0.5 in c:\\users\\lukas\\anaconda3\\lib\\site-packages (from terminado>=0.8.3->notebook>=4.4.1->widgetsnbextension~=3.5.0->ipywidgets>=7.0.0cloudpickle>=0.2.2->swifter) (0.5.7)\n",
      "Requirement already satisfied: testpath in c:\\users\\lukas\\anaconda3\\lib\\site-packages (from nbconvert->notebook>=4.4.1->widgetsnbextension~=3.5.0->ipywidgets>=7.0.0cloudpickle>=0.2.2->swifter) (0.4.4)\n",
      "Requirement already satisfied: nbclient<0.6.0,>=0.5.0 in c:\\users\\lukas\\anaconda3\\lib\\site-packages (from nbconvert->notebook>=4.4.1->widgetsnbextension~=3.5.0->ipywidgets>=7.0.0cloudpickle>=0.2.2->swifter) (0.5.1)\n",
      "Requirement already satisfied: defusedxml in c:\\users\\lukas\\anaconda3\\lib\\site-packages (from nbconvert->notebook>=4.4.1->widgetsnbextension~=3.5.0->ipywidgets>=7.0.0cloudpickle>=0.2.2->swifter) (0.6.0)\n",
      "Requirement already satisfied: mistune<2,>=0.8.1 in c:\\users\\lukas\\anaconda3\\lib\\site-packages (from nbconvert->notebook>=4.4.1->widgetsnbextension~=3.5.0->ipywidgets>=7.0.0cloudpickle>=0.2.2->swifter) (0.8.4)\n",
      "Requirement already satisfied: entrypoints>=0.2.2 in c:\\users\\lukas\\anaconda3\\lib\\site-packages (from nbconvert->notebook>=4.4.1->widgetsnbextension~=3.5.0->ipywidgets>=7.0.0cloudpickle>=0.2.2->swifter) (0.3)\n",
      "Requirement already satisfied: jupyterlab-pygments in c:\\users\\lukas\\anaconda3\\lib\\site-packages (from nbconvert->notebook>=4.4.1->widgetsnbextension~=3.5.0->ipywidgets>=7.0.0cloudpickle>=0.2.2->swifter) (0.1.2)\n",
      "Requirement already satisfied: pandocfilters>=1.4.1 in c:\\users\\lukas\\anaconda3\\lib\\site-packages (from nbconvert->notebook>=4.4.1->widgetsnbextension~=3.5.0->ipywidgets>=7.0.0cloudpickle>=0.2.2->swifter) (1.4.3)\n",
      "Requirement already satisfied: pyasn1-modules>=0.2.1 in c:\\users\\lukas\\anaconda3\\lib\\site-packages (from google-auth<2.0dev,>=1.25.0->google-api-core<2.0.0,>=1.0.0->opencensus->ray>=1.4.0; extra == \"ray\"->modin[ray]>=0.8.1.1->swifter) (0.2.8)\n",
      "Requirement already satisfied: cachetools<5.0,>=2.0.0 in c:\\users\\lukas\\anaconda3\\lib\\site-packages (from google-auth<2.0dev,>=1.25.0->google-api-core<2.0.0,>=1.0.0->opencensus->ray>=1.4.0; extra == \"ray\"->modin[ray]>=0.8.1.1->swifter) (4.2.2)\n",
      "Requirement already satisfied: rsa<5,>=3.1.4; python_version >= \"3.6\" in c:\\users\\lukas\\anaconda3\\lib\\site-packages (from google-auth<2.0dev,>=1.25.0->google-api-core<2.0.0,>=1.0.0->opencensus->ray>=1.4.0; extra == \"ray\"->modin[ray]>=0.8.1.1->swifter) (4.7.2)\n",
      "Requirement already satisfied: pycparser in c:\\users\\lukas\\anaconda3\\lib\\site-packages (from cffi>=1.0.0->argon2-cffi->notebook>=4.4.1->widgetsnbextension~=3.5.0->ipywidgets>=7.0.0cloudpickle>=0.2.2->swifter) (2.20)\n",
      "Requirement already satisfied: nest-asyncio in c:\\users\\lukas\\anaconda3\\lib\\site-packages (from nbclient<0.6.0,>=0.5.0->nbconvert->notebook>=4.4.1->widgetsnbextension~=3.5.0->ipywidgets>=7.0.0cloudpickle>=0.2.2->swifter) (1.4.2)\n",
      "Requirement already satisfied: async-generator in c:\\users\\lukas\\anaconda3\\lib\\site-packages (from nbclient<0.6.0,>=0.5.0->nbconvert->notebook>=4.4.1->widgetsnbextension~=3.5.0->ipywidgets>=7.0.0cloudpickle>=0.2.2->swifter) (1.10)\n",
      "Requirement already satisfied: pyasn1<0.5.0,>=0.4.6 in c:\\users\\lukas\\anaconda3\\lib\\site-packages (from pyasn1-modules>=0.2.1->google-auth<2.0dev,>=1.25.0->google-api-core<2.0.0,>=1.0.0->opencensus->ray>=1.4.0; extra == \"ray\"->modin[ray]>=0.8.1.1->swifter) (0.4.8)\n"
     ]
    }
   ],
   "source": [
    "!pip install -U textblob-de\n",
    "!python -m textblob.download_corpora\n",
    "!pip install vaderSentiment\n",
    "!pip install WordCloud\n",
    "!pip install pycountry\n",
    "!pip install langdetect\n",
    "!pip install vader-multi\n",
    "!pip install -U textblob\n",
    "!pip install pandarallel\n",
    "!pip install swifter\n"
   ]
  },
  {
   "cell_type": "markdown",
   "metadata": {},
   "source": [
    "Importing all relevant libraries:"
   ]
  },
  {
   "cell_type": "code",
   "execution_count": 2,
   "metadata": {},
   "outputs": [
    {
     "ename": "ValueError",
     "evalue": "cannot find context for 'fork'",
     "output_type": "error",
     "traceback": [
      "\u001b[1;31m---------------------------------------------------------------------------\u001b[0m",
      "\u001b[1;31mValueError\u001b[0m                                Traceback (most recent call last)",
      "\u001b[1;32m<ipython-input-2-070e789a1ebc>\u001b[0m in \u001b[0;36m<module>\u001b[1;34m\u001b[0m\n\u001b[0;32m     30\u001b[0m \u001b[1;32mfrom\u001b[0m \u001b[0mdatetime\u001b[0m \u001b[1;32mimport\u001b[0m \u001b[0mdatetime\u001b[0m\u001b[1;33m\u001b[0m\u001b[1;33m\u001b[0m\u001b[0m\n\u001b[0;32m     31\u001b[0m \u001b[1;32mfrom\u001b[0m \u001b[0msklearn\u001b[0m\u001b[1;33m.\u001b[0m\u001b[0mfeature_extraction\u001b[0m\u001b[1;33m.\u001b[0m\u001b[0mtext\u001b[0m \u001b[1;32mimport\u001b[0m \u001b[0mCountVectorizer\u001b[0m\u001b[1;33m\u001b[0m\u001b[1;33m\u001b[0m\u001b[0m\n\u001b[1;32m---> 32\u001b[1;33m \u001b[1;32mfrom\u001b[0m \u001b[0mpandarallel\u001b[0m \u001b[1;32mimport\u001b[0m \u001b[0mpandarallel\u001b[0m\u001b[1;33m\u001b[0m\u001b[1;33m\u001b[0m\u001b[0m\n\u001b[0m\u001b[0;32m     33\u001b[0m \u001b[0mpandarallel\u001b[0m\u001b[1;33m.\u001b[0m\u001b[0minitialize\u001b[0m\u001b[1;33m(\u001b[0m\u001b[1;33m)\u001b[0m\u001b[1;33m\u001b[0m\u001b[1;33m\u001b[0m\u001b[0m\n",
      "\u001b[1;32m~\\anaconda3\\lib\\site-packages\\pandarallel\\__init__.py\u001b[0m in \u001b[0;36m<module>\u001b[1;34m\u001b[0m\n\u001b[0;32m      1\u001b[0m \u001b[0m__version__\u001b[0m \u001b[1;33m=\u001b[0m \u001b[1;34m\"1.5.2\"\u001b[0m\u001b[1;33m\u001b[0m\u001b[1;33m\u001b[0m\u001b[0m\n\u001b[0;32m      2\u001b[0m \u001b[1;33m\u001b[0m\u001b[0m\n\u001b[1;32m----> 3\u001b[1;33m \u001b[1;32mfrom\u001b[0m \u001b[1;33m.\u001b[0m\u001b[0mpandarallel\u001b[0m \u001b[1;32mimport\u001b[0m \u001b[0mpandarallel\u001b[0m\u001b[1;33m\u001b[0m\u001b[1;33m\u001b[0m\u001b[0m\n\u001b[0m",
      "\u001b[1;32m~\\anaconda3\\lib\\site-packages\\pandarallel\\pandarallel.py\u001b[0m in \u001b[0;36m<module>\u001b[1;34m\u001b[0m\n\u001b[0;32m     25\u001b[0m \u001b[1;31m# Python 3.8 on MacOS by default uses \"spawn\" instead of \"fork\" as start method for new\u001b[0m\u001b[1;33m\u001b[0m\u001b[1;33m\u001b[0m\u001b[1;33m\u001b[0m\u001b[0m\n\u001b[0;32m     26\u001b[0m \u001b[1;31m# processes, which is incompatible with pandarallel. We force it to use \"fork\" method.\u001b[0m\u001b[1;33m\u001b[0m\u001b[1;33m\u001b[0m\u001b[1;33m\u001b[0m\u001b[0m\n\u001b[1;32m---> 27\u001b[1;33m \u001b[0mcontext\u001b[0m \u001b[1;33m=\u001b[0m \u001b[0mget_context\u001b[0m\u001b[1;33m(\u001b[0m\u001b[1;34m\"fork\"\u001b[0m\u001b[1;33m)\u001b[0m\u001b[1;33m\u001b[0m\u001b[1;33m\u001b[0m\u001b[0m\n\u001b[0m\u001b[0;32m     28\u001b[0m \u001b[1;33m\u001b[0m\u001b[0m\n\u001b[0;32m     29\u001b[0m \u001b[1;31m# By default, Pandarallel use all available CPUs\u001b[0m\u001b[1;33m\u001b[0m\u001b[1;33m\u001b[0m\u001b[1;33m\u001b[0m\u001b[0m\n",
      "\u001b[1;32m~\\anaconda3\\lib\\multiprocessing\\context.py\u001b[0m in \u001b[0;36mget_context\u001b[1;34m(self, method)\u001b[0m\n\u001b[0;32m    237\u001b[0m             \u001b[1;32mreturn\u001b[0m \u001b[0mself\u001b[0m\u001b[1;33m.\u001b[0m\u001b[0m_actual_context\u001b[0m\u001b[1;33m\u001b[0m\u001b[1;33m\u001b[0m\u001b[0m\n\u001b[0;32m    238\u001b[0m         \u001b[1;32melse\u001b[0m\u001b[1;33m:\u001b[0m\u001b[1;33m\u001b[0m\u001b[1;33m\u001b[0m\u001b[0m\n\u001b[1;32m--> 239\u001b[1;33m             \u001b[1;32mreturn\u001b[0m \u001b[0msuper\u001b[0m\u001b[1;33m(\u001b[0m\u001b[1;33m)\u001b[0m\u001b[1;33m.\u001b[0m\u001b[0mget_context\u001b[0m\u001b[1;33m(\u001b[0m\u001b[0mmethod\u001b[0m\u001b[1;33m)\u001b[0m\u001b[1;33m\u001b[0m\u001b[1;33m\u001b[0m\u001b[0m\n\u001b[0m\u001b[0;32m    240\u001b[0m \u001b[1;33m\u001b[0m\u001b[0m\n\u001b[0;32m    241\u001b[0m     \u001b[1;32mdef\u001b[0m \u001b[0mset_start_method\u001b[0m\u001b[1;33m(\u001b[0m\u001b[0mself\u001b[0m\u001b[1;33m,\u001b[0m \u001b[0mmethod\u001b[0m\u001b[1;33m,\u001b[0m \u001b[0mforce\u001b[0m\u001b[1;33m=\u001b[0m\u001b[1;32mFalse\u001b[0m\u001b[1;33m)\u001b[0m\u001b[1;33m:\u001b[0m\u001b[1;33m\u001b[0m\u001b[1;33m\u001b[0m\u001b[0m\n",
      "\u001b[1;32m~\\anaconda3\\lib\\multiprocessing\\context.py\u001b[0m in \u001b[0;36mget_context\u001b[1;34m(self, method)\u001b[0m\n\u001b[0;32m    191\u001b[0m             \u001b[0mctx\u001b[0m \u001b[1;33m=\u001b[0m \u001b[0m_concrete_contexts\u001b[0m\u001b[1;33m[\u001b[0m\u001b[0mmethod\u001b[0m\u001b[1;33m]\u001b[0m\u001b[1;33m\u001b[0m\u001b[1;33m\u001b[0m\u001b[0m\n\u001b[0;32m    192\u001b[0m         \u001b[1;32mexcept\u001b[0m \u001b[0mKeyError\u001b[0m\u001b[1;33m:\u001b[0m\u001b[1;33m\u001b[0m\u001b[1;33m\u001b[0m\u001b[0m\n\u001b[1;32m--> 193\u001b[1;33m             \u001b[1;32mraise\u001b[0m \u001b[0mValueError\u001b[0m\u001b[1;33m(\u001b[0m\u001b[1;34m'cannot find context for %r'\u001b[0m \u001b[1;33m%\u001b[0m \u001b[0mmethod\u001b[0m\u001b[1;33m)\u001b[0m \u001b[1;32mfrom\u001b[0m \u001b[1;32mNone\u001b[0m\u001b[1;33m\u001b[0m\u001b[1;33m\u001b[0m\u001b[0m\n\u001b[0m\u001b[0;32m    194\u001b[0m         \u001b[0mctx\u001b[0m\u001b[1;33m.\u001b[0m\u001b[0m_check_available\u001b[0m\u001b[1;33m(\u001b[0m\u001b[1;33m)\u001b[0m\u001b[1;33m\u001b[0m\u001b[1;33m\u001b[0m\u001b[0m\n\u001b[0;32m    195\u001b[0m         \u001b[1;32mreturn\u001b[0m \u001b[0mctx\u001b[0m\u001b[1;33m\u001b[0m\u001b[1;33m\u001b[0m\u001b[0m\n",
      "\u001b[1;31mValueError\u001b[0m: cannot find context for 'fork'"
     ]
    }
   ],
   "source": [
    "import sqlite3\n",
    "from PIL import Image\n",
    "import swifter\n",
    "import pandas as pd\n",
    "from textblob import TextBlob\n",
    "from vaderSentiment.vaderSentiment import SentimentIntensityAnalyzer\n",
    "import sqlite3\n",
    "import time\n",
    "import string \n",
    "#from googletrans import Translator\n",
    "import pandas as pd\n",
    "import numpy as np\n",
    "import json\n",
    "import pandas as pd\n",
    "import os\n",
    "import numpy as np\n",
    "import re\n",
    "import pycountry\n",
    "from typing import List\n",
    "import nltk\n",
    "from wordcloud import WordCloud, STOPWORDS\n",
    "from textblob import TextBlob\n",
    "from wordcloud import WordCloud, STOPWORDS\n",
    "from PIL import Image\n",
    "from nltk.sentiment.vader import SentimentIntensityAnalyzer\n",
    "from langdetect import detect\n",
    "from nltk.stem import SnowballStemmer\n",
    "from nltk.sentiment.vader import SentimentIntensityAnalyzer\n",
    "from vaderSentiment.vaderSentiment import SentimentIntensityAnalyzer\n",
    "from datetime import datetime\n",
    "from sklearn.feature_extraction.text import CountVectorizer\n",
    "from pandarallel import pandarallel\n",
    "pandarallel.initialize()"
   ]
  },
  {
   "cell_type": "markdown",
   "metadata": {},
   "source": [
    "Create running time optimized functions:"
   ]
  },
  {
   "cell_type": "code",
   "execution_count": 3,
   "metadata": {},
   "outputs": [],
   "source": [
    "def textsubjectivity(df):\n",
    "    return df.parallel_apply(\n",
    "    lambda row: TextBlob(\n",
    "      row).sentiment.subjectivity\n",
    "  )"
   ]
  },
  {
   "cell_type": "code",
   "execution_count": 4,
   "metadata": {},
   "outputs": [],
   "source": [
    "def textpolarity(df):\n",
    "    return df.parallel_apply(\n",
    "    lambda row: TextBlob(\n",
    "      row).sentiment.polarity\n",
    "  )"
   ]
  },
  {
   "cell_type": "code",
   "execution_count": 5,
   "metadata": {},
   "outputs": [],
   "source": [
    "sia = SentimentIntensityAnalyzer()\n",
    "def swifter_impl(df):\n",
    "    return df.swifter.apply(\n",
    "    lambda row: sia.polarity_scores(\n",
    "    row))\n"
   ]
  },
  {
   "cell_type": "markdown",
   "metadata": {},
   "source": [
    "Open up the database and select all Tweets:"
   ]
  },
  {
   "cell_type": "code",
   "execution_count": 7,
   "metadata": {},
   "outputs": [],
   "source": [
    "conn_tweets = sqlite3.connect('tweets_airlines.db')"
   ]
  },
  {
   "cell_type": "code",
   "execution_count": 8,
   "metadata": {},
   "outputs": [],
   "source": [
    "query = '''SELECT *\n",
    "           FROM TWEETS\n",
    "           '''\n",
    "\n",
    "df_tweets = pd.read_sql(query, conn_tweets)"
   ]
  },
  {
   "cell_type": "markdown",
   "metadata": {},
   "source": [
    "Add subjectivity, polarity via textblob:"
   ]
  },
  {
   "cell_type": "code",
   "execution_count": null,
   "metadata": {},
   "outputs": [],
   "source": [
    "df_tweets['subjectivity'] = textsubjectivity(df_tweets['full_text'])\n"
   ]
  },
  {
   "cell_type": "code",
   "execution_count": null,
   "metadata": {},
   "outputs": [],
   "source": [
    "df_tweets['polarity'] = textpolarity(df_tweets['full_text'])\n"
   ]
  },
  {
   "cell_type": "markdown",
   "metadata": {},
   "source": [
    "Add other semantic features via Vader:"
   ]
  },
  {
   "cell_type": "code",
   "execution_count": null,
   "metadata": {},
   "outputs": [],
   "source": [
    "df_tweets = (pd.json_normalize(swifter_impl(df_tweets[\"full_text\"]))).join(df_tweets)"
   ]
  },
  {
   "cell_type": "code",
   "execution_count": null,
   "metadata": {},
   "outputs": [],
   "source": [
    "df_tweets.to_sql('TWEETS', conn_tweets, if_exists=\"replace\", index=False)"
   ]
  },
  {
   "cell_type": "code",
   "execution_count": null,
   "metadata": {},
   "outputs": [],
   "source": [
    "conn_tweets.close()"
   ]
  },
  {
   "cell_type": "code",
   "execution_count": null,
   "metadata": {},
   "outputs": [],
   "source": [
    "conn_tweets = sqlite3.connect('tweets_airlines.db')"
   ]
  },
  {
   "cell_type": "code",
   "execution_count": null,
   "metadata": {},
   "outputs": [],
   "source": [
    "query = '''SELECT *\n",
    "           FROM TWEETS\n",
    "           '''\n",
    "\n",
    "df_tweets = pd.read_sql(query, conn_tweets)"
   ]
  },
  {
   "cell_type": "markdown",
   "metadata": {},
   "source": [
    "Create a new dataframe and classify the Tweets with negative,positive or neutral:"
   ]
  },
  {
   "cell_type": "code",
   "execution_count": null,
   "metadata": {},
   "outputs": [],
   "source": [
    "df_sentiments = df_tweets[['tweet_id', 'full_text', 'subjectivity', 'polarity', 'compound', 'neg', 'neu', 'pos']]"
   ]
  },
  {
   "cell_type": "code",
   "execution_count": null,
   "metadata": {},
   "outputs": [],
   "source": [
    "df_sentiments['sentiment'] = df_sentiments[df_sentiments['neg'] != df_sentiments['pos']][['neg', 'pos']].idxmax(axis=1)\n",
    "df_sentiments['sentiment'].fillna('neu', inplace=True)\n",
    "\n",
    "\n"
   ]
  },
  {
   "cell_type": "code",
   "execution_count": null,
   "metadata": {},
   "outputs": [],
   "source": [
    "tw_list_negative = df_sentiments[df_sentiments[\"sentiment\"]==\"neg\"]\n",
    "tw_list_positive = df_sentiments[df_sentiments[\"sentiment\"]==\"pos\"]\n",
    "tw_list_neutral = df_sentiments[df_sentiments[\"sentiment\"]==\"neu\"]"
   ]
  },
  {
   "cell_type": "markdown",
   "metadata": {},
   "source": [
    "Create different word clouds for sentiments:"
   ]
  },
  {
   "cell_type": "code",
   "execution_count": null,
   "metadata": {},
   "outputs": [],
   "source": [
    "def create_wordcloud(text):\n",
    "    mask = np.array(Image.open(\"cloud.jpg\"))\n",
    "    stopwords = set(STOPWORDS)\n",
    "    wc = WordCloud(background_color=\"white\",\n",
    "    mask = mask,\n",
    "    max_words=3000,\n",
    "    stopwords=stopwords,\n",
    "    repeat=True)\n",
    "    wc.generate(str(text))\n",
    "    wc.to_file(\"wc.png\")\n",
    "    print(\"Word Cloud Saved Successfully\")\n",
    "    path=\"wc.png\"\n",
    "    display(Image.open(path))\n"
   ]
  },
  {
   "cell_type": "code",
   "execution_count": null,
   "metadata": {},
   "outputs": [],
   "source": [
    "create_wordcloud(tw_list_positive[\"full_text\"].values)"
   ]
  },
  {
   "cell_type": "code",
   "execution_count": null,
   "metadata": {},
   "outputs": [],
   "source": [
    "create_wordcloud(tw_list_negative[\"full_text\"].values)\n"
   ]
  },
  {
   "cell_type": "code",
   "execution_count": null,
   "metadata": {},
   "outputs": [],
   "source": [
    "tw_list = df_sentiments"
   ]
  },
  {
   "cell_type": "markdown",
   "metadata": {},
   "source": [
    "Calculate the character length of each sentiment:"
   ]
  },
  {
   "cell_type": "code",
   "execution_count": null,
   "metadata": {},
   "outputs": [],
   "source": [
    "tw_list[\"text_len\"] = tw_list[\"full_text\"].astype(str).apply(len)\n",
    "tw_list[\"text_word_count\"] = tw_list[\"full_text\"].apply(lambda x: len(str(x).split()))\n",
    "round(pd.DataFrame(tw_list.groupby(\"sentiment\").text_len.mean()),2)"
   ]
  },
  {
   "cell_type": "markdown",
   "metadata": {},
   "source": [
    "Calculate the word count per sentiment:"
   ]
  },
  {
   "cell_type": "code",
   "execution_count": null,
   "metadata": {},
   "outputs": [],
   "source": [
    "round(pd.DataFrame(tw_list.groupby(\"sentiment\").text_word_count.mean()),2)"
   ]
  },
  {
   "cell_type": "markdown",
   "metadata": {},
   "source": [
    "Remove punctuation, stopwords etc:\n"
   ]
  },
  {
   "cell_type": "code",
   "execution_count": null,
   "metadata": {},
   "outputs": [],
   "source": [
    "def remove_punct(text):\n",
    " text = \"\".join([char for char in text if char not in string.punctuation])\n",
    " text = re.sub('[0–9]+', '', text)\n",
    " return text\n",
    "tw_list[\"punct\"] = tw_list[\"full_text\"].apply(lambda x: remove_punct(x))\n",
    "#Appliyng tokenization\n",
    "def tokenization(text):\n",
    "    text = re.split('\\W+', text)\n",
    "    return text\n",
    "tw_list['tokenized'] = tw_list['punct'].apply(lambda x: tokenization(x.lower()))\n",
    "#Removing stopwords\n",
    "stopword = nltk.corpus.stopwords.words('english')\n",
    "def remove_stopwords(text):\n",
    "    text = [word for word in text if word not in stopword]\n",
    "    return text\n",
    "    \n",
    "tw_list['nonstop'] = tw_list['tokenized'].apply(lambda x: remove_stopwords(x))\n",
    "#Appliyng Stemmer\n",
    "ps = nltk.PorterStemmer()\n",
    "def stemming(text):\n",
    "    text = [ps.stem(word) for word in text]\n",
    "    return text\n",
    "tw_list['stemmed'] = tw_list['nonstop'].apply(lambda x: stemming(x))\n",
    "#Cleaning Text\n",
    "def clean_text(text):\n",
    "    text_lc = \"\".join([word.lower() for word in text if word not in string.punctuation]) # remove puntuation\n",
    "    text_rc = re.sub('[0-9]+', '', text_lc)\n",
    "    tokens = re.split('\\W+', text_rc)    # tokenization\n",
    "    text = [ps.stem(word) for word in tokens if word not in stopword]  # remove stopwords and stemming\n",
    "    return text\n",
    "tw_list.head()"
   ]
  },
  {
   "cell_type": "code",
   "execution_count": null,
   "metadata": {},
   "outputs": [],
   "source": []
  },
  {
   "cell_type": "code",
   "execution_count": null,
   "metadata": {},
   "outputs": [],
   "source": [
    "countVectorizer = CountVectorizer(analyzer=clean_text) \n",
    "countVector = countVectorizer.fit_transform(tw_list[\"full_text\"])\n",
    "print(\"{} Number of reviews has {} words\".format(countVector.shape[0], countVector.shape[1]))\n",
    "print(countVectorizer.get_feature_names())\n"
   ]
  },
  {
   "cell_type": "code",
   "execution_count": null,
   "metadata": {},
   "outputs": [],
   "source": []
  },
  {
   "cell_type": "code",
   "execution_count": 9,
   "metadata": {},
   "outputs": [],
   "source": [
    "query = '''SELECT *\n",
    "           FROM TWEETS\n",
    "           WHERE user_id =  56377143\n",
    "           '''\n",
    "\n",
    "df_tweets_klm = pd.read_sql(query, conn_tweets)"
   ]
  },
  {
   "cell_type": "code",
   "execution_count": null,
   "metadata": {},
   "outputs": [],
   "source": [
    "query = '''SELECT *\n",
    "           FROM TWEETS\n",
    "           EXCEPT \n",
    "           SELECT *\n",
    "           FROM TWEETS\n",
    "           WHERE user_id =  56377143\n",
    "\n",
    "           '''\n",
    "\n",
    "df_tweets_comp = pd.read_sql(query, conn_tweets)"
   ]
  },
  {
   "cell_type": "code",
   "execution_count": 10,
   "metadata": {},
   "outputs": [],
   "source": [
    "df_sentiments_klm = df_tweets_klm[['tweet_id', 'full_text', 'subjectivity', 'polarity', 'compound', 'neg', 'neu', 'pos']]\n",
    "df_sentiments_comp = df_tweets_comp[['tweet_id', 'full_text', 'subjectivity', 'polarity', 'compound', 'neg', 'neu', 'pos']]\n"
   ]
  },
  {
   "cell_type": "code",
   "execution_count": null,
   "metadata": {},
   "outputs": [],
   "source": [
    "df_sentiments_comp['sentiment'] = df_sentiments_comp[df_sentiments_comp['neg'] != df_sentiments_comp['pos']][['neg', 'pos']].idxmax(axis=1)\n",
    "df_sentiments_comp['sentiment'].fillna('neu', inplace=True)\n",
    "\n",
    "\n"
   ]
  },
  {
   "cell_type": "code",
   "execution_count": 11,
   "metadata": {},
   "outputs": [
    {
     "name": "stderr",
     "output_type": "stream",
     "text": [
      "<ipython-input-11-a47a62fcaf44>:1: SettingWithCopyWarning: \n",
      "A value is trying to be set on a copy of a slice from a DataFrame.\n",
      "Try using .loc[row_indexer,col_indexer] = value instead\n",
      "\n",
      "See the caveats in the documentation: https://pandas.pydata.org/pandas-docs/stable/user_guide/indexing.html#returning-a-view-versus-a-copy\n",
      "  df_sentiments_klm['sentiment'] = df_sentiments_klm[df_sentiments_klm['neg'] != df_sentiments_klm['pos']][['neg', 'pos']].idxmax(axis=1)\n",
      "C:\\Users\\lukas\\anaconda3\\lib\\site-packages\\pandas\\core\\series.py:4517: SettingWithCopyWarning: \n",
      "A value is trying to be set on a copy of a slice from a DataFrame\n",
      "\n",
      "See the caveats in the documentation: https://pandas.pydata.org/pandas-docs/stable/user_guide/indexing.html#returning-a-view-versus-a-copy\n",
      "  return super().fillna(\n"
     ]
    }
   ],
   "source": [
    "df_sentiments_klm['sentiment'] = df_sentiments_klm[df_sentiments_klm['neg'] != df_sentiments_klm['pos']][['neg', 'pos']].idxmax(axis=1)\n",
    "df_sentiments_klm['sentiment'].fillna('neu', inplace=True)\n",
    "\n",
    "\n"
   ]
  },
  {
   "cell_type": "code",
   "execution_count": null,
   "metadata": {},
   "outputs": [],
   "source": []
  },
  {
   "cell_type": "code",
   "execution_count": null,
   "metadata": {},
   "outputs": [],
   "source": [
    "tw_list_negative_comp = df_sentiments_comp[df_sentiments_comp[\"sentiment\"]==\"neg\"]\n",
    "tw_list_positive_comp = df_sentiments_comp[df_sentiments_comp[\"sentiment\"]==\"pos\"]\n",
    "tw_list_neutral_comp = df_sentiments_comp[df_sentiments_comp[\"sentiment\"]==\"neu\"]"
   ]
  },
  {
   "cell_type": "code",
   "execution_count": 12,
   "metadata": {},
   "outputs": [],
   "source": [
    "tw_list_negative_klm = df_sentiments_klm[df_sentiments_klm[\"sentiment\"]==\"neg\"]\n",
    "tw_list_positive_klm = df_sentiments_klm[df_sentiments_klm[\"sentiment\"]==\"pos\"]\n",
    "tw_list_neutral_klm = df_sentiments_klm[df_sentiments_klm[\"sentiment\"]==\"neu\"]"
   ]
  },
  {
   "cell_type": "code",
   "execution_count": null,
   "metadata": {},
   "outputs": [],
   "source": [
    "# library\n",
    "import matplotlib.pyplot as plt\n",
    "\n",
    "# create data\n",
    "size_of_groups=[len(tw_list_positive_comp),len(tw_list_negative_comp)]\n",
    "\n",
    "labels= ['Positive Tweets', 'Negative Tweets']\n",
    "\n",
    "# Create a pieplot\n",
    "fig = plt.pie(size_of_groups, labels = labels, autopct='%0.1f%%')\n",
    "\n",
    "# add a circle at the center to transform it in a donut chart\n",
    "my_circle=plt.Circle( (0,0), 0.43,color='white')\n",
    "p=plt.gcf()\n",
    "p.gca().add_artist(my_circle)\n",
    "\n",
    "plt.savefig(\"PieChartCompetitors.png\")\n",
    "\n",
    "\n"
   ]
  },
  {
   "cell_type": "code",
   "execution_count": 14,
   "metadata": {},
   "outputs": [
    {
     "data": {
      "image/png": "[encoded data removed]",
      "text/plain": [
       "<Figure size 432x288 with 1 Axes>"
      ]
     },
     "metadata": {},
     "output_type": "display_data"
    }
   ],
   "source": [
    "# library\n",
    "\n",
    "import matplotlib.pyplot as plt\n",
    "\n",
    "# create data\n",
    "size_of_groups=[len(tw_list_positive_klm),len(tw_list_negative_klm)]\n",
    "\n",
    "labels= ['Positive Tweets', 'Negative Tweets']\n",
    "\n",
    "# Create a pieplot\n",
    "plt.pie(size_of_groups, labels = labels, autopct='%0.1f%%')\n",
    "\n",
    "# add a circle at the center to transform it in a donut chart\n",
    "my_circle=plt.Circle( (0,0), 0.43,color='white')\n",
    "p=plt.gcf()\n",
    "p.gca().add_artist(my_circle)\n",
    "plt.savefig(\"PieChartKLM.png\")\n",
    "plt.show()"
   ]
  },
  {
   "cell_type": "code",
   "execution_count": null,
   "metadata": {},
   "outputs": [],
   "source": [
    "conn_tweets.close()"
   ]
  }
 ],
 "metadata": {
  "kernelspec": {
   "display_name": "Python 3",
   "language": "python",
   "name": "python3"
  },
  "language_info": {
   "codemirror_mode": {
    "name": "ipython",
    "version": 3
   },
   "file_extension": ".py",
   "mimetype": "text/x-python",
   "name": "python",
   "nbconvert_exporter": "python",
   "pygments_lexer": "ipython3",
   "version": "3.7.6"
  }
 },
 "nbformat": 4,
 "nbformat_minor": 4
}
