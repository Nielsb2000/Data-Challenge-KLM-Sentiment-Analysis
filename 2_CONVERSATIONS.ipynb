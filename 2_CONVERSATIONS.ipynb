{
 "cells": [
  {
   "cell_type": "markdown",
   "metadata": {},
   "source": [
    "## Conversations (2)"
   ]
  },
  {
   "cell_type": "code",
   "execution_count": 16,
   "metadata": {},
   "outputs": [],
   "source": [
    "import sqlite3\n",
    "import pandas as pd\n",
    "import sys \n",
    "from datetime import datetime"
   ]
  },
  {
   "cell_type": "code",
   "execution_count": 17,
   "metadata": {},
   "outputs": [],
   "source": [
    "pd.set_option('display.max_colwidth', None)  "
   ]
  },
  {
   "cell_type": "markdown",
   "metadata": {},
   "source": [
    "---"
   ]
  },
  {
   "cell_type": "code",
   "execution_count": 28,
   "metadata": {},
   "outputs": [],
   "source": [
    "conn_tweets = sqlite3.connect('tweets_airlines.db')"
   ]
  },
  {
   "cell_type": "markdown",
   "metadata": {},
   "source": [
    "---"
   ]
  },
  {
   "cell_type": "code",
   "execution_count": 29,
   "metadata": {},
   "outputs": [],
   "source": [
    "def calculate_runtime(start, stop):\n",
    "\n",
    "    runtime = stop - start\n",
    "    \n",
    "    days, seconds = runtime.days, runtime.seconds\n",
    "    \n",
    "    hours = days * 24 + seconds // 3600\n",
    "    minutes = (seconds % 3600) // 60\n",
    "    seconds = (seconds % 60)\n",
    "    \n",
    "    return 'Runtime of creating Conversation Structure was: {} h, {} m {} s'.format(hours, minutes, seconds)"
   ]
  },
  {
   "cell_type": "code",
   "execution_count": 30,
   "metadata": {},
   "outputs": [],
   "source": [
    "start = datetime.now()"
   ]
  },
  {
   "cell_type": "markdown",
   "metadata": {},
   "source": [
    "---"
   ]
  },
  {
   "cell_type": "markdown",
   "metadata": {},
   "source": [
    "### Conversation Structure"
   ]
  },
  {
   "cell_type": "code",
   "execution_count": 31,
   "metadata": {},
   "outputs": [],
   "source": [
    "query_conv = '''SELECT tweet_id, user_id, reply_to_tweet, created_at \n",
    "                FROM TWEETS\n",
    "                LIMIT 10000\n",
    "                '''\n",
    "df_conversations = pd.read_sql(query_conv, conn_tweets)"
   ]
  },
  {
   "cell_type": "code",
   "execution_count": 32,
   "metadata": {},
   "outputs": [],
   "source": [
    "query_tweets = '''SELECT *\n",
    "                  FROM TWEETS\n",
    "                  LIMIT 10000\n",
    "                  '''\n",
    "df_tweets = pd.read_sql(query_tweets, conn_tweets)"
   ]
  },
  {
   "cell_type": "code",
   "execution_count": 33,
   "metadata": {},
   "outputs": [],
   "source": [
    "query_users = '''SELECT *\n",
    "                 FROM USERS\n",
    "                 LIMIT 10000'''\n",
    "\n",
    "df_users = pd.read_sql(query_users, conn_tweets)"
   ]
  },
  {
   "cell_type": "code",
   "execution_count": null,
   "metadata": {},
   "outputs": [],
   "source": [
    "        df_conversations.at[index, 'conversation_level'] = df_conversations.iloc[lambda x: x.index == row['reply_to_tweet'], 2].values[0] + 1\n"
   ]
  },
  {
   "cell_type": "markdown",
   "metadata": {},
   "source": [
    "---"
   ]
  },
  {
   "cell_type": "markdown",
   "metadata": {},
   "source": [
    "#### Giving all non roots the correct level and conversation id\n",
    "\n",
    "Conversation level at start is 0 for all. For every non root, the conversation level is then defined as the conversation level of the tweet it is a reply to, + 1. \n",
    "Conversation ID is the tweet_id of the root of the conversation"
   ]
  },
  {
   "cell_type": "code",
   "execution_count": 34,
   "metadata": {},
   "outputs": [],
   "source": [
    "df_conversations = df_conversations.sort_values(by='created_at')\n",
    "df_conversations['conversation_level'] = 1\n",
    "df_conversations['conversation_id'] = df_conversations['tweet_id'].astype(str)"
   ]
  },
  {
   "cell_type": "code",
   "execution_count": 35,
   "metadata": {},
   "outputs": [
    {
     "data": {
      "text/plain": [
       "10000"
      ]
     },
     "execution_count": 35,
     "metadata": {},
     "output_type": "execute_result"
    }
   ],
   "source": [
    "df_tweets.shape[0]"
   ]
  },
  {
   "cell_type": "code",
   "execution_count": 36,
   "metadata": {},
   "outputs": [],
   "source": [
    "roots = df_conversations['reply_to_tweet'] == 0\n",
    "df_conversations.loc[roots, 'conversation_level'] = 0 "
   ]
  },
  {
   "cell_type": "code",
   "execution_count": 37,
   "metadata": {},
   "outputs": [
    {
     "name": "stdout",
     "output_type": "stream",
     "text": [
      "3330 / 3330"
     ]
    }
   ],
   "source": [
    "count = 0\n",
    "\n",
    "for index, row in df_conversations[~roots].iterrows():\n",
    "    \n",
    "    count = count + 1\n",
    "    \n",
    "    parent_tweets = df_conversations.loc[df_conversations['tweet_id'] == row['reply_to_tweet']]\n",
    "    \n",
    "    if parent_tweets.size > 0:\n",
    "        row_id = parent_tweets.iloc[0]['conversation_id']\n",
    "        row_level = parent_tweets.iloc[0]['conversation_level'] + 1\n",
    "        df_conversations.at[index,'conversation_level'] = row_level\n",
    "        df_conversations.at[index,'conversation_id'] = row_id\n",
    "    \n",
    "    progress = '{count} / {total}'.format(count = count, total = (df_conversations[~roots].shape[0]))\n",
    "    sys.stdout.write('\\r' + progress)"
   ]
  },
  {
   "cell_type": "code",
   "execution_count": 38,
   "metadata": {},
   "outputs": [
    {
     "data": {
      "text/plain": [
       "10000"
      ]
     },
     "execution_count": 38,
     "metadata": {},
     "output_type": "execute_result"
    }
   ],
   "source": [
    "df_conversations.shape[0]"
   ]
  },
  {
   "cell_type": "markdown",
   "metadata": {},
   "source": [
    "---"
   ]
  },
  {
   "cell_type": "markdown",
   "metadata": {},
   "source": [
    "#### Defining all conversation ID's correctly for level 0s and 1s\n",
    "\n",
    "For root tweets, all conversation ID's are their tweet id with added .0. \n",
    "\n",
    "For all first replies, a dictionary counts the amount of level ones appear under one conversation ID. To the conversation_id of the level ones the string .X will be added, where X is a counter of the amount of 1s that still appear for the conversation_id that don't have a correctly defined conversation_id yet. The branches dictionary gets updated everytime a level 1 conversation_id is correctly defined. "
   ]
  },
  {
   "cell_type": "code",
   "execution_count": 39,
   "metadata": {},
   "outputs": [],
   "source": [
    "branches_dict = df_conversations[df_conversations['conversation_level'] == 1].groupby('conversation_id')['conversation_level'].count().to_dict()"
   ]
  },
  {
   "cell_type": "code",
   "execution_count": 40,
   "metadata": {},
   "outputs": [],
   "source": [
    "def conv_id(conversation_id, level):\n",
    "    \n",
    "    if level == 0: \n",
    "        return conversation_id + '.0'\n",
    "\n",
    "    else:\n",
    "        if level == 1:\n",
    "            try:\n",
    "                level_ones = branches_dict.get(conversation_id)\n",
    "\n",
    "                update_levels = level_ones - 1\n",
    "\n",
    "                if update_levels == 0:\n",
    "                    branches_dict.pop(conversation_id)\n",
    "\n",
    "                else: \n",
    "                    branches_dict[conversation_id] = update_levels\n",
    "\n",
    "                if level_ones > 1: \n",
    "                    return conversation_id + '.' + str(level_ones)\n",
    "\n",
    "                else:\n",
    "                    return conversation_id + '.1'\n",
    "            except:\n",
    "                pass\n",
    "        else:\n",
    "            return 'level > 1'"
   ]
  },
  {
   "cell_type": "code",
   "execution_count": 41,
   "metadata": {},
   "outputs": [],
   "source": [
    "df_conversations['conversation_id'] = df_conversations.apply(lambda tweet: conv_id(tweet.conversation_id, tweet.conversation_level), axis=1)"
   ]
  },
  {
   "cell_type": "markdown",
   "metadata": {},
   "source": [
    "---"
   ]
  },
  {
   "cell_type": "markdown",
   "metadata": {},
   "source": [
    "#### Correcting conversation ID of tweets with level > 1 \n",
    "\n",
    "For all tweets above level one the conversation ID is copied from the tweet it is a reply to. "
   ]
  },
  {
   "cell_type": "code",
   "execution_count": 42,
   "metadata": {},
   "outputs": [
    {
     "name": "stdout",
     "output_type": "stream",
     "text": [
      "1122 / 1122"
     ]
    }
   ],
   "source": [
    "count = 0\n",
    "\n",
    "for index, row in df_conversations[df_conversations['conversation_level'] > 1].iterrows():\n",
    "    \n",
    "    count = count + 1\n",
    "    \n",
    "    parent_tweets = df_conversations.loc[df_conversations['tweet_id'] == row['reply_to_tweet']]\n",
    "    \n",
    "    if parent_tweets.size > 1:\n",
    "        row_id = parent_tweets.iloc[0]['conversation_id']\n",
    "        df_conversations.at[index,'conversation_id'] = row_id\n",
    "        \n",
    "    progress = '{count} / {total}'.format(count = count, total = (df_conversations[df_conversations['conversation_level'] > 1].shape[0]))\n",
    "    sys.stdout.write('\\r' + progress)"
   ]
  },
  {
   "cell_type": "markdown",
   "metadata": {},
   "source": [
    "---"
   ]
  },
  {
   "cell_type": "code",
   "execution_count": 43,
   "metadata": {},
   "outputs": [],
   "source": [
    "dict_levels = df_conversations.set_index('tweet_id')['conversation_level'].to_dict()"
   ]
  },
  {
   "cell_type": "code",
   "execution_count": 44,
   "metadata": {},
   "outputs": [],
   "source": [
    "dict_id = df_conversations.set_index('tweet_id')['conversation_id'].to_dict()"
   ]
  },
  {
   "cell_type": "code",
   "execution_count": 45,
   "metadata": {},
   "outputs": [],
   "source": [
    "df_tweets['conversation_level'] = df_tweets['tweet_id'].map(dict_levels)"
   ]
  },
  {
   "cell_type": "code",
   "execution_count": 46,
   "metadata": {},
   "outputs": [],
   "source": [
    "df_tweets['conversation_id'] = df_tweets['tweet_id'].map(dict_id)"
   ]
  },
  {
   "cell_type": "code",
   "execution_count": null,
   "metadata": {},
   "outputs": [],
   "source": [
    "df_tweets.to_sql('TWEETS', conn_tweets, if_exists=\"replace\", index=False)"
   ]
  },
  {
   "cell_type": "code",
   "execution_count": 217,
   "metadata": {},
   "outputs": [],
   "source": [
    "conn_tweets.close()"
   ]
  },
  {
   "cell_type": "markdown",
   "metadata": {},
   "source": [
    "---"
   ]
  },
  {
   "cell_type": "code",
   "execution_count": 148,
   "metadata": {},
   "outputs": [],
   "source": [
    "stop = datetime.now()"
   ]
  },
  {
   "cell_type": "code",
   "execution_count": 149,
   "metadata": {},
   "outputs": [
    {
     "data": {
      "text/plain": [
       "'Runtime of creating Conversation Structure for  was: 0 h, 2 m 16 s'"
      ]
     },
     "execution_count": 149,
     "metadata": {},
     "output_type": "execute_result"
    }
   ],
   "source": [
    "calculate_runtime(start, stop)"
   ]
  },
  {
   "cell_type": "markdown",
   "metadata": {},
   "source": [
    "---"
   ]
  },
  {
   "cell_type": "code",
   "execution_count": 3,
   "metadata": {},
   "outputs": [],
   "source": [
    "conn_tweets = sqlite3.connect('tweets_airlines.db')"
   ]
  },
  {
   "cell_type": "markdown",
   "metadata": {},
   "source": [
    "---"
   ]
  },
  {
   "cell_type": "markdown",
   "metadata": {},
   "source": [
    "### Conversation Structure"
   ]
  },
  {
   "cell_type": "code",
   "execution_count": 3,
   "metadata": {},
   "outputs": [],
   "source": [
    "query_conv = '''SELECT tweet_id, reply_to_tweet, created_at \n",
    "                FROM TWEETS\n",
    "                '''\n",
    "df_conversations = pd.read_sql(query_conv, conn_tweets)"
   ]
  },
  {
   "cell_type": "code",
   "execution_count": 4,
   "metadata": {},
   "outputs": [],
   "source": [
    "query_tweets = '''SELECT *\n",
    "                  FROM TWEETS\n",
    "                  '''\n",
    "df_tweets = pd.read_sql(query_tweets, conn_tweets)"
   ]
  },
  {
   "cell_type": "code",
   "execution_count": 5,
   "metadata": {},
   "outputs": [],
   "source": [
    "query_users = '''SELECT *\n",
    "                 FROM USERS\n",
    "                 '''\n",
    "df_users = pd.read_sql(query_users, conn_tweets)"
   ]
  },
  {
   "cell_type": "markdown",
   "metadata": {},
   "source": [
    "---"
   ]
  },
  {
   "cell_type": "markdown",
   "metadata": {},
   "source": [
    "#### Giving all non roots the correct level and conversation id\n",
    "\n",
    "Conversation level at start is 0 for all. For every non root, the conversation level is then defined as the conversation level of the tweet it is a reply to, + 1. \n",
    "Conversation ID is the tweet_id of the root of the conversation"
   ]
  },
  {
   "cell_type": "markdown",
   "metadata": {},
   "source": [
    "---"
   ]
  },
  {
   "cell_type": "code",
   "execution_count": 6,
   "metadata": {},
   "outputs": [],
   "source": [
    "df_conversations = df_conversations.sort_values(by='created_at')\n",
    "df_conversations['conversation_level'] = 1\n",
    "df_conversations['conversation_id'] = df_conversations['tweet_id'].astype(str)"
   ]
  },
  {
   "cell_type": "code",
   "execution_count": 7,
   "metadata": {},
   "outputs": [],
   "source": [
    "roots = df_conversations['reply_to_tweet'] == 0\n",
    "df_conversations.loc[roots, 'conversation_level'] = 0 "
   ]
  },
  {
   "cell_type": "code",
   "execution_count": 8,
   "metadata": {},
   "outputs": [],
   "source": [
    "df_conversations = df_conversations.set_index('tweet_id')"
   ]
  },
  {
   "cell_type": "code",
   "execution_count": 9,
   "metadata": {},
   "outputs": [],
   "source": [
    "roots = df_conversations['reply_to_tweet'] == 0\n",
    "df_conversations.loc[roots, 'conversation_level'] = 0 "
   ]
  },
  {
   "cell_type": "markdown",
   "metadata": {},
   "source": [
    "---"
   ]
  },
  {
   "cell_type": "markdown",
   "metadata": {},
   "source": [
    "Splitting dataframes to reduce the runtime"
   ]
  },
  {
   "cell_type": "code",
   "execution_count": 10,
   "metadata": {},
   "outputs": [],
   "source": [
    "df_conversations_1 = df_conversations.head(2000000).copy()\n",
    "df_conversations_2_1 = df_conversations.head(4000000).copy()\n",
    "df_conversations_2 = df_conversations_2_1.tail(2000000).copy()\n",
    "df_conversations_3 = df_conversations.tail(2094135).copy()"
   ]
  },
  {
   "cell_type": "code",
   "execution_count": 11,
   "metadata": {},
   "outputs": [
    {
     "name": "stdout",
     "output_type": "stream",
     "text": [
      "2000000 / 2000000"
     ]
    }
   ],
   "source": [
    "count = 0\n",
    "\n",
    "for index, row in df_conversations_1.iterrows():\n",
    "    \n",
    "    count = count + 1\n",
    "    try:\n",
    "        df_conversations_1.at[index, 'conversation_level'] = df_conversations_1.iloc[lambda x: x.index == row['reply_to_tweet'], 2].values[0] + 1\n",
    "        df_conversations_1.at[index, 'conversation_id'] = df_conversations_1.iloc[lambda x: x.index == row['reply_to_tweet'], 3].values[0]\n",
    "    except:\n",
    "        pass\n",
    "    \n",
    "    progress = '{count} / {total}'.format(count = count, total = (df_conversations_1.shape[0]))\n",
    "    sys.stdout.write('\\r' + progress)"
   ]
  },
  {
   "cell_type": "code",
   "execution_count": 12,
   "metadata": {},
   "outputs": [
    {
     "name": "stdout",
     "output_type": "stream",
     "text": [
      "2000000 / 2000000"
     ]
    }
   ],
   "source": [
    "count = 0\n",
    "\n",
    "for index, row in df_conversations_2.iterrows():\n",
    "    \n",
    "    count = count + 1\n",
    "    try:\n",
    "        df_conversations_2.at[index, 'conversation_level'] = df_conversations_2.iloc[lambda x: x.index == row['reply_to_tweet'], 2].values[0] + 1\n",
    "        df_conversations_2.at[index, 'conversation_id'] = df_conversations_2.iloc[lambda x: x.index == row['reply_to_tweet'], 3].values[0]\n",
    "    except:\n",
    "        pass\n",
    "    \n",
    "    progress = '{count} / {total}'.format(count = count, total = (df_conversations_2.shape[0]))\n",
    "    sys.stdout.write('\\r' + progress)"
   ]
  },
  {
   "cell_type": "code",
   "execution_count": 13,
   "metadata": {},
   "outputs": [
    {
     "name": "stdout",
     "output_type": "stream",
     "text": [
      "2094135 / 2094135"
     ]
    }
   ],
   "source": [
    "count = 0\n",
    "\n",
    "for index, row in df_conversations_3.iterrows():\n",
    "    \n",
    "    count = count + 1\n",
    "    try:\n",
    "        df_conversations_3.at[index, 'conversation_level'] = df_conversations_3.iloc[lambda x: x.index == row['reply_to_tweet'], 2].values[0] + 1\n",
    "        df_conversations_2.at[index, 'conversation_id'] = df_conversations_2.iloc[lambda x: x.index == row['reply_to_tweet'], 3].values[0]        \n",
    "    except:\n",
    "        pass\n",
    "    \n",
    "    progress = '{count} / {total}'.format(count = count, total = (df_conversations_3.shape[0]))\n",
    "    sys.stdout.write('\\r' + progress)"
   ]
  },
  {
   "cell_type": "code",
   "execution_count": 14,
   "metadata": {},
   "outputs": [],
   "source": [
    "df_conversations = pd.concat([df_conversations_1, df_conversations_2, df_conversations_3])"
   ]
  },
  {
   "cell_type": "markdown",
   "metadata": {},
   "source": [
    "---"
   ]
  },
  {
   "cell_type": "markdown",
   "metadata": {},
   "source": [
    "#### Defining all conversation ID's correctly for level 0s and 1s\n",
    "\n",
    "For root tweets, all conversation ID's are their tweet id with added .0. \n",
    "\n",
    "For all first replies, a dictionary counts the amount of level ones appear under one conversation ID. To the conversation_id of the level ones the string .X will be added, where X is a counter of the amount of 1s that still appear for the conversation_id that don't have a correctly defined conversation_id yet. The branches dictionary gets updated everytime a level 1 conversation_id is correctly defined. "
   ]
  },
  {
   "cell_type": "code",
   "execution_count": 15,
   "metadata": {},
   "outputs": [],
   "source": [
    "branches_dict = df_conversations[df_conversations['conversation_level'] == 1].groupby('conversation_id')['conversation_level'].count().to_dict()"
   ]
  },
  {
   "cell_type": "code",
   "execution_count": 16,
   "metadata": {},
   "outputs": [],
   "source": [
    "def conv_id(conversation_id, level):\n",
    "    \"\"\"\n",
    "    Updates conversation_id for every record. Takes the amount of level 1's per conversation_id and creates a unique code for every of them\n",
    "    :param conversation_id: current conversation_id\n",
    "    :param level: conversation_level \n",
    "    :return: updated conversation_id \n",
    "    \"\"\"\n",
    "    \n",
    "    # All level 0 tweets' conversation_id get the addition .0\n",
    "    if level == 0: \n",
    "        return conversation_id + '.0'\n",
    "\n",
    "    else:\n",
    "        # All level 1 tweets' conversation_id get a unique addition\n",
    "        if level == 1:\n",
    "            try:\n",
    "                level_ones = branches_dict.get(conversation_id)\n",
    "\n",
    "                update_levels = level_ones - 1\n",
    "\n",
    "                if update_levels == 0:\n",
    "                    branches_dict.pop(conversation_id)\n",
    "\n",
    "                else: \n",
    "                    branches_dict[conversation_id] = update_levels\n",
    "\n",
    "                if level_ones > 1: \n",
    "                    return conversation_id + '.' + str(level_ones)\n",
    "\n",
    "                else:\n",
    "                    return conversation_id + '.1'\n",
    "            except:\n",
    "                pass\n",
    "        # All tweets above level 1 get no conversation_id, this is corrected later \n",
    "        else:\n",
    "            return 'level > 1'"
   ]
  },
  {
   "cell_type": "code",
   "execution_count": 17,
   "metadata": {},
   "outputs": [],
   "source": [
    "df_conversations['conversation_id'] = df_conversations.apply(lambda tweet: conv_id(tweet.conversation_id, tweet.conversation_level), axis=1)"
   ]
  },
  {
   "cell_type": "markdown",
   "metadata": {},
   "source": [
    "---"
   ]
  },
  {
   "cell_type": "markdown",
   "metadata": {},
   "source": [
    "#### Correcting conversation ID of tweets with level > 1 \n",
    "\n",
    "For all tweets above level one the conversation ID is copied from the tweet it is a reply to. "
   ]
  },
  {
   "cell_type": "code",
   "execution_count": 21,
   "metadata": {},
   "outputs": [],
   "source": [
    "df_conversations_1 = df_conversations.head(2000000).copy()\n",
    "df_conversations_2_1 = df_conversations.head(4000000).copy()\n",
    "df_conversations_2 = df_conversations_2_1.tail(2000000).copy()\n",
    "df_conversations_3 = df_conversations.tail(2094135).copy()"
   ]
  },
  {
   "cell_type": "code",
   "execution_count": 23,
   "metadata": {},
   "outputs": [
    {
     "name": "stdout",
     "output_type": "stream",
     "text": [
      "253843 / 253843"
     ]
    }
   ],
   "source": [
    "count = 0\n",
    "\n",
    "for index, row in df_conversations_1[df_conversations_1['conversation_level'] > 1].iterrows():\n",
    "    \n",
    "    count = count + 1\n",
    "    \n",
    "    try:\n",
    "        df_conversations_1.at[index, 'conversation_id'] = df_conversations_1.iloc[lambda x: x.index == row['reply_to_tweet'], 3].values[0]\n",
    "    except:\n",
    "        pass\n",
    "    \n",
    "    progress = '{count} / {total}'.format(count = count, total = (df_conversations_1[df_conversations_1['conversation_level'] > 1].shape[0]))\n",
    "    sys.stdout.write('\\r' + progress)"
   ]
  },
  {
   "cell_type": "code",
   "execution_count": 24,
   "metadata": {},
   "outputs": [
    {
     "name": "stdout",
     "output_type": "stream",
     "text": [
      "237324 / 237324"
     ]
    }
   ],
   "source": [
    "count = 0\n",
    "\n",
    "for index, row in df_conversations_2[df_conversations_2['conversation_level'] > 1].iterrows():\n",
    "    \n",
    "    count = count + 1\n",
    "    \n",
    "    try:\n",
    "        df_conversations_2.at[index, 'conversation_id'] = df_conversations_2.iloc[lambda x: x.index == row['reply_to_tweet'], 3].values[0]\n",
    "    except:\n",
    "        pass    \n",
    "        \n",
    "    progress = '{count} / {total}'.format(count = count, total = (df_conversations_2[df_conversations_2['conversation_level'] > 1].shape[0]))\n",
    "    sys.stdout.write('\\r' + progress)"
   ]
  },
  {
   "cell_type": "code",
   "execution_count": 25,
   "metadata": {},
   "outputs": [
    {
     "name": "stdout",
     "output_type": "stream",
     "text": [
      "252094 / 252094"
     ]
    }
   ],
   "source": [
    "count = 0\n",
    "\n",
    "for index, row in df_conversations_3[df_conversations_3['conversation_level'] > 1].iterrows():\n",
    "    \n",
    "    count = count + 1\n",
    "    \n",
    "    try:\n",
    "        df_conversations_3.at[index, 'conversation_id'] = df_conversations_3.iloc[lambda x: x.index == row['reply_to_tweet'], 3].values[0]\n",
    "    except:\n",
    "        pass    \n",
    "        \n",
    "    progress = '{count} / {total}'.format(count = count, total = (df_conversations_3[df_conversations_3['conversation_level'] > 1].shape[0]))\n",
    "    sys.stdout.write('\\r' + progress)"
   ]
  },
  {
   "cell_type": "code",
   "execution_count": 26,
   "metadata": {},
   "outputs": [],
   "source": [
    "df_conversations = pd.concat([df_conversations_1, df_conversations_2, df_conversations_3])"
   ]
  },
  {
   "cell_type": "markdown",
   "metadata": {},
   "source": [
    "---"
   ]
  },
  {
   "cell_type": "code",
   "execution_count": 27,
   "metadata": {},
   "outputs": [],
   "source": [
    "dict_levels = df_conversations['conversation_level'].to_dict()"
   ]
  },
  {
   "cell_type": "code",
   "execution_count": 28,
   "metadata": {},
   "outputs": [],
   "source": [
    "dict_id = df_conversations['conversation_id'].to_dict()"
   ]
  },
  {
   "cell_type": "code",
   "execution_count": 29,
   "metadata": {},
   "outputs": [],
   "source": [
    "df_tweets['conversation_level'] = df_tweets['tweet_id'].map(dict_levels)"
   ]
  },
  {
   "cell_type": "code",
   "execution_count": 30,
   "metadata": {},
   "outputs": [],
   "source": [
    "df_tweets['conversation_id'] = df_tweets['tweet_id'].map(dict_id)"
   ]
  },
  {
   "cell_type": "code",
   "execution_count": 34,
   "metadata": {},
   "outputs": [],
   "source": [
    "df_tweets.to_sql('TWEETS', conn_tweets, if_exists=\"replace\", index=False)"
   ]
  },
  {
   "cell_type": "code",
   "execution_count": 31,
   "metadata": {},
   "outputs": [],
   "source": [
    "conn_tweets.close()"
   ]
  },
  {
   "cell_type": "markdown",
   "metadata": {},
   "source": [
    "---"
   ]
  },
  {
   "cell_type": "code",
   "execution_count": 15,
   "metadata": {},
   "outputs": [],
   "source": [
    "stop = datetime.now()"
   ]
  },
  {
   "cell_type": "code",
   "execution_count": 17,
   "metadata": {},
   "outputs": [
    {
     "data": {
      "text/plain": [
       "'Runtime of Cleaning process for 753283 records was: 0 h, 1 m 4 s'"
      ]
     },
     "execution_count": 17,
     "metadata": {},
     "output_type": "execute_result"
    }
   ],
   "source": [
    "calculate_runtime(start, stop)"
   ]
  }
 ],
 "metadata": {
  "kernelspec": {
   "display_name": "Python 3",
   "language": "python",
   "name": "python3"
  },
  "language_info": {
   "codemirror_mode": {
    "name": "ipython",
    "version": 3
   },
   "file_extension": ".py",
   "mimetype": "text/x-python",
   "name": "python",
   "nbconvert_exporter": "python",
   "pygments_lexer": "ipython3",
   "version": "3.7.6"
  }
 },
 "nbformat": 4,
 "nbformat_minor": 4
}
